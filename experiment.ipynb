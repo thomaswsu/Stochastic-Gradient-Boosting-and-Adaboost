{
 "cells": [
  {
   "cell_type": "code",
   "execution_count": 2,
   "metadata": {},
   "outputs": [],
   "source": [
    "from functions import *\n",
    "import glob\n",
    "from PIL import Image\n",
    "import os\n",
    "from sklearn.model_selection import train_test_split"
   ]
  },
  {
   "cell_type": "code",
   "execution_count": 4,
   "metadata": {},
   "outputs": [],
   "source": [
    "IMAGE_DIR = \"./data/data/data\"\n",
    "\n",
    "def load():\n",
    "    file_list = glob.glob(IMAGE_DIR + \"/*.jpg\")\n",
    "    X = []\n",
    "    Y = []\n",
    "\n",
    "    for fname in file_list:\n",
    "        with Image.open(fname) as img:\n",
    "            np_img = np.array(img).flatten()\n",
    "        label = int(os.path.split(fname)[-1].split('.')[0].split('_')[3])-1\n",
    "\n",
    "        X.append(np_img)\n",
    "        tempy = np.zeros(15)\n",
    "        tempy[label] = 1\n",
    "        Y.append(tempy)\n",
    "    X, Y = np.array(X), np.array(Y)\n",
    "    return(X, Y)"
   ]
  },
  {
   "cell_type": "code",
   "execution_count": 5,
   "metadata": {},
   "outputs": [
    {
     "output_type": "stream",
     "name": "stdout",
     "text": [
      "794 datapoints have classification 0\n",
      "807 datapoints have classification 1\n",
      "790 datapoints have classification 2\n",
      "821 datapoints have classification 3\n",
      "770 datapoints have classification 4\n",
      "811 datapoints have classification 5\n",
      "784 datapoints have classification 6\n",
      "824 datapoints have classification 7\n",
      "799 datapoints have classification 8\n",
      "790 datapoints have classification 9\n",
      "788 datapoints have classification 10\n",
      "802 datapoints have classification 11\n",
      "815 datapoints have classification 12\n",
      "796 datapoints have classification 13\n",
      "809 datapoints have classification 14\n"
     ]
    }
   ],
   "source": [
    "# create test, train split\n",
    "X, Y = load()\n",
    "Xtrain, Xtest, Ytrain, Ytest = train_test_split(X, Y, train_size=0.8, random_state=2021)\n",
    "Ytrain_classes = []\n",
    "for i in range(Ytrain.shape[1]):\n",
    "    Ytrain_0 = classify(Ytrain, i)\n",
    "    Ytrain_classes.append(Ytrain_0)\n",
    "    print(f\"{Ytrain_0.count(1)} datapoints have classification {i}\")"
   ]
  },
  {
   "cell_type": "code",
   "execution_count": 6,
   "metadata": {},
   "outputs": [],
   "source": [
    "def update_weights(weights, best):\n",
    "    for i in range(len(weights)):\n",
    "        if i not in best.miss_data:\n",
    "            weights[i] = 1/2*(1/(1 - best.error_rate))*weights[i]\n",
    "        else:\n",
    "            weights[i] = 1/2*(1/best.error_rate)*weights[i]\n",
    "\n",
    "def run(Weak_Learners, data, eval_set, H, weights):\n",
    "    for wl in Weak_Learners:\n",
    "        wl.miss_classify(data, eval_set)\n",
    "        wl.calc_error_rate(weights)\n",
    "    \n",
    "    best = Weak_Learners[0]\n",
    "    for wl in Weak_Learners:\n",
    "        if wl.error_rate < best.error_rate:\n",
    "            best = wl\n",
    "    \n",
    "    best.calc_voting_power()\n",
    "    H.append(best)\n",
    "    \n",
    "    update_weights(weights, best)\n",
    "    \n",
    "    accuracy = H_accuracy(H, data, eval_set)\n",
    "    \n",
    "    return accuracy"
   ]
  },
  {
   "cell_type": "code",
   "execution_count": 36,
   "metadata": {},
   "outputs": [
    {
     "output_type": "stream",
     "name": "stdout",
     "text": [
      "Ratio: 10.00%\n",
      "\tAccuracy: 80.66%\n",
      "Ratio: 20.00%\n",
      "\tAccuracy: 83.26%\n",
      "Ratio: 30.00%\n",
      "\tAccuracy: 82.12%\n",
      "Ratio: 40.00%\n",
      "\tAccuracy: 80.77%\n",
      "Ratio: 50.00%\n",
      "\tAccuracy: 80.98%\n",
      "Ratio: 60.00%\n",
      "\tAccuracy: 81.00%\n",
      "Ratio: 70.00%\n",
      "\tAccuracy: 80.36%\n",
      "Ratio: 80.00%\n",
      "\tAccuracy: 81.37%\n",
      "Ratio: 90.00%\n",
      "\tAccuracy: 81.92%\n"
     ]
    }
   ],
   "source": [
    "\"\"\"\n",
    "Here we test the performace of our model with different amounts of training data \n",
    "TODO: METHOD OF CALCULATING ACCURACY MAY BE INCORRECT\n",
    "\"\"\"\n",
    "trainSizes = [x / 10 for x in range(1, 10, 1)] # Create a list of [0.1, 0.2, 0.3, ..., 0.9]\n",
    "\n",
    "for trainRatio in trainSizes:\n",
    "    Xtrain, Xtest, Ytrain, Ytest = train_test_split(X, Y, train_size=trainRatio, random_state=2021)\n",
    "    Ytrain_classes = []\n",
    "    Ytest_classes = []\n",
    "    for i in range(Ytrain.shape[1]):\n",
    "        Ytrain_i = classify(Ytrain, i)\n",
    "        Ytrain_classes.append(Ytrain_i)\n",
    "        Ytest_i = classify(Ytest, i)\n",
    "        Ytest_classes.append(Ytest_i)\n",
    "    \n",
    "    accuracies = []\n",
    "    for i in range(Ytrain.shape[1]):\n",
    "        H = []\n",
    "        Weak_Learners = []\n",
    "        for _ in range(10):\n",
    "            model = ShallowTree()\n",
    "            model.fit(Xtrain, Ytrain_classes[0])\n",
    "            Weak_Learners.append(WeakLearner(model, 0))\n",
    "\n",
    "        weights = np.array([1/len(Xtrain) for _ in range(len(Xtrain))])\n",
    "        local_accuracies = []\n",
    "        for r in range(10):\n",
    "            local_accuracies.append(run(Weak_Learners, Xtrain, Ytrain_classes[i], H, weights))\n",
    "        accuracies.append(sum(local_accuracies)/len(local_accuracies))\n",
    "        #training_accuracy = H_accuracy(H, Xtrain, Ytrain_classes[i])\n",
    "        #print(f\"Training accuracy for class {i}: {training_accuracy:.2%}\")\n",
    "    #     WL.miss_classify(Xtrain, Ytrain_classes[0])\n",
    "    #     WL.calc_error_rate(np.array([1 for d in range(Xtrain.shape[0])]))\n",
    "    print(f\"Ratio: {trainRatio:.2%}\\n\\tAccuracy: {sum(accuracies)/len(accuracies):.2%}\")\n"
   ]
  },
  {
   "cell_type": "code",
   "execution_count": 14,
   "metadata": {},
   "outputs": [
    {
     "output_type": "stream",
     "name": "stdout",
     "text": [
      "Percent correct with tree size 2: 81.35%\n",
      "Percent correct with tree size 3: 80.31%\n",
      "Percent correct with tree size 4: 80.59%\n",
      "Percent correct with tree size 5: 80.00%\n",
      "Percent correct with tree size 6: 79.61%\n",
      "Percent correct with tree size 7: 79.04%\n",
      "Percent correct with tree size 8: 78.41%\n",
      "Percent correct with tree size 9: 78.25%\n"
     ]
    }
   ],
   "source": [
    "\"\"\" \n",
    "Now we vary the size of the trees\n",
    "\"\"\"\n",
    "Xtrain, Xtest, Ytrain, Ytest = train_test_split(X, Y, train_size=0.8, random_state=2021)\n",
    "Ytrain_classes = []\n",
    "Ytest_classes = []\n",
    "for treeSize in range(2, 10):\n",
    "    for i in range(Ytrain.shape[1]):\n",
    "        Ytrain_i = classify(Ytrain, i)\n",
    "        Ytrain_classes.append(Ytrain_i)\n",
    "        Ytest_i = classify(Ytest, i)\n",
    "        Ytest_classes.append(Ytest_i)\n",
    "\n",
    "    accuracies = []\n",
    "    for i in range(Ytrain.shape[1]):\n",
    "        H = []\n",
    "        Weak_Learners = []\n",
    "        for _ in range(10):\n",
    "            model = ShallowTree(treeSize)\n",
    "            model.fit(Xtrain, Ytrain_classes[0])\n",
    "            Weak_Learners.append(WeakLearner(model, 0))\n",
    "\n",
    "        weights = np.array([1/len(Xtrain) for _ in range(len(Xtrain))])\n",
    "        local_accuracies = []\n",
    "        for r in range(10):\n",
    "            local_accuracies.append(run(Weak_Learners, Xtest, Ytrain_classes[i], H, weights))\n",
    "        accuracies.append(sum(local_accuracies)/len(local_accuracies))\n",
    "\n",
    "    print(f\"Percent correct with tree size {treeSize}: {sum(accuracies)/len(accuracies):.2%}\")"
   ]
  }
 ],
 "metadata": {
  "kernelspec": {
   "name": "python3",
   "display_name": "Python 3.8.6 64-bit",
   "metadata": {
    "interpreter": {
     "hash": "aee8b7b246df8f9039afb4144a1f6fd8d2ca17a180786b69acc140d282b71a49"
    }
   }
  },
  "language_info": {
   "codemirror_mode": {
    "name": "ipython",
    "version": 3
   },
   "file_extension": ".py",
   "mimetype": "text/x-python",
   "name": "python",
   "nbconvert_exporter": "python",
   "pygments_lexer": "ipython3",
   "version": "3.8.6-final"
  }
 },
 "nbformat": 4,
 "nbformat_minor": 2
}