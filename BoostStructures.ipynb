{
 "cells": [
  {
   "cell_type": "code",
   "execution_count": 1,
   "metadata": {},
   "outputs": [],
   "source": [
    "import numpy as np\n",
    "from sklearn.tree import DecisionTreeClassifier"
   ]
  },
  {
   "cell_type": "code",
   "execution_count": 2,
   "metadata": {},
   "outputs": [],
   "source": [
    "class WeakLearner:\n",
    "    def __init__(self, model, i):\n",
    "        self.__name = f\"f{i+1}\"\n",
    "        self.__model = model\n",
    "    \n",
    "    def __sign(self, val):\n",
    "        return 1 if val > 0 else -1\n",
    "    \n",
    "    def name(self):\n",
    "        return self.__name\n",
    "    \n",
    "    def model(self):\n",
    "        return self.__model\n",
    "    \n",
    "    def miss_classify(self, data, eval_data):\n",
    "        self.__miss_data = []\n",
    "        for i in range(len(data)):\n",
    "            if self.__sign(self.model.predict(data)) != self.__sign(eval_data[i]):\n",
    "                self.__miss_data.append(i)\n",
    "        \n",
    "    def calc_error_rate(self, w):\n",
    "        self.__error_rate = np.sum(w[self.__miss_data])\n",
    "    \n",
    "    def calc_voting_power(self):\n",
    "        self.__alpha = 1/2*np.log((1-self.__error_rate)/self.__error_rate)\n",
    "        "
   ]
  },
  {
   "cell_type": "code",
   "execution_count": 3,
   "metadata": {},
   "outputs": [],
   "source": [
    "def ShallowTree():\n",
    "    return DecisionTreeClassifier(max_depth=2)"
   ]
  },
  {
   "cell_type": "code",
   "execution_count": 12,
   "metadata": {},
   "outputs": [],
   "source": [
    "def classify(data, classification):\n",
    "    return [1 if np.where(d == 1)[0][0] == classification else -1 for d in data]"
   ]
  },
  {
   "cell_type": "markdown",
   "metadata": {},
   "source": [
    "# Local tests"
   ]
  },
  {
   "cell_type": "code",
   "execution_count": 19,
   "metadata": {},
   "outputs": [
    {
     "name": "stdout",
     "output_type": "stream",
     "text": [
      "791 datapoints have classification 0\n",
      "806 datapoints have classification 1\n",
      "812 datapoints have classification 2\n",
      "806 datapoints have classification 3\n",
      "798 datapoints have classification 4\n",
      "781 datapoints have classification 5\n",
      "805 datapoints have classification 6\n",
      "832 datapoints have classification 7\n",
      "814 datapoints have classification 8\n",
      "785 datapoints have classification 9\n",
      "792 datapoints have classification 10\n",
      "799 datapoints have classification 11\n",
      "781 datapoints have classification 12\n",
      "800 datapoints have classification 13\n",
      "798 datapoints have classification 14\n",
      "From a total of 12000, 12000 were classified\n"
     ]
    }
   ],
   "source": [
    "if __name__ == \"__main__\":\n",
    "    import glob\n",
    "    from PIL import Image\n",
    "    import os\n",
    "    from sklearn.model_selection import train_test_split\n",
    "    \n",
    "    IMAGE_DIR = \"./data/data/data\"\n",
    "\n",
    "    def load():\n",
    "        file_list = glob.glob(IMAGE_DIR + \"/*.jpg\")\n",
    "        X = []\n",
    "        Y = []\n",
    "\n",
    "        for fname in file_list:\n",
    "            with Image.open(fname) as img:\n",
    "                np_img = np.array(img).flatten()\n",
    "            label = int(os.path.split(fname)[-1].split('.')[0].split('_')[3])-1\n",
    "\n",
    "            X.append(np_img)\n",
    "            tempy = np.zeros(15)\n",
    "            tempy[label] = 1\n",
    "            Y.append(tempy)\n",
    "        X, Y = np.array(X), np.array(Y)\n",
    "        return X, Y\n",
    "\n",
    "    # create test, train split\n",
    "    X, Y = load()\n",
    "    Xtrain, Xtest, Ytrain, Ytest = train_test_split(X, Y, train_size=0.8, random_state=2021)\n",
    "    Ytrain_classes = []\n",
    "    for i in range(Ytrain.shape[1]):\n",
    "        Ytrain_0 = classify(Ytrain, i)\n",
    "        Ytrain_classes.append(Ytrain_0.count(1))\n",
    "        print(f\"{Ytrain_0.count(1)} datapoints have classification {i}\")\n",
    "    print(f\"From a total of {Ytrain.shape[0]}, {sum(Ytrain_classes)} were classified\")"
   ]
  },
  {
   "cell_type": "code",
   "execution_count": null,
   "metadata": {},
   "outputs": [],
   "source": []
  }
 ],
 "metadata": {
  "kernelspec": {
   "display_name": "Python 3",
   "language": "python",
   "name": "python3"
  },
  "language_info": {
   "codemirror_mode": {
    "name": "ipython",
    "version": 3
   },
   "file_extension": ".py",
   "mimetype": "text/x-python",
   "name": "python",
   "nbconvert_exporter": "python",
   "pygments_lexer": "ipython3",
   "version": "3.8.3"
  }
 },
 "nbformat": 4,
 "nbformat_minor": 4
}
