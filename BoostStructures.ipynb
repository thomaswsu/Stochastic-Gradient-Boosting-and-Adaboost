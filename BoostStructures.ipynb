{
 "cells": [
  {
   "cell_type": "code",
   "execution_count": null,
   "metadata": {},
   "outputs": [],
   "source": [
    "import numpy as np"
   ]
  },
  {
   "cell_type": "code",
   "execution_count": null,
   "metadata": {},
   "outputs": [],
   "source": [
    "class WeakLearner:\n",
    "    def __init__(self, model, i):\n",
    "        self.__name = f\"f{i+1}\"\n",
    "        self.__model = model\n",
    "    \n",
    "    def __sign(self, val):\n",
    "        return 1 if val>= 0 else -1\n",
    "    \n",
    "    def name(self):\n",
    "        return self.__name\n",
    "    \n",
    "    def model(self):\n",
    "        return self.__model\n",
    "    \n",
    "    def miss_classify(self, data, eval_data):\n",
    "        self.__miss_data = []\n",
    "        for i in range(len(data)):\n",
    "            if self.__sign(self.model.predict(data)) != self.__sign(eval_data[i]):\n",
    "                self.__miss_data.append(i)\n",
    "        \n",
    "    def calc_error_rate(self, w):\n",
    "        self.__error_rate = np.sum(w[self.__miss_data])\n",
    "    \n",
    "    def calc_voting_power(self):\n",
    "        self.__alpha = 1/2*np.log((1-self.__error_rate)/self.__error_rate)\n",
    "        "
   ]
  }
 ],
 "metadata": {
  "kernelspec": {
   "display_name": "Python 3",
   "language": "python",
   "name": "python3"
  },
  "language_info": {
   "codemirror_mode": {
    "name": "ipython",
    "version": 3
   },
   "file_extension": ".py",
   "mimetype": "text/x-python",
   "name": "python",
   "nbconvert_exporter": "python",
   "pygments_lexer": "ipython3",
   "version": "3.8.3"
  }
 },
 "nbformat": 4,
 "nbformat_minor": 4
}
