{
 "cells": [
  {
   "cell_type": "code",
   "execution_count": 6,
   "metadata": {},
   "outputs": [],
   "source": [
    "import numpy as np\n",
    "from sklearn.tree import DecisionTreeClassifier"
   ]
  },
  {
   "cell_type": "code",
   "execution_count": 7,
   "metadata": {},
   "outputs": [],
   "source": [
    "class WeakLearner:\n",
    "    def __init__(self, model, i):\n",
    "        self.__class = i\n",
    "        self.__model = model\n",
    "        self.miss_data = None\n",
    "        self.error_rate = None\n",
    "    \n",
    "    def __sign(self, val):\n",
    "        return 1 if val > 0 else -1\n",
    "    \n",
    "    def name(self):\n",
    "        return self.__name\n",
    "    \n",
    "    def model(self):\n",
    "        return self.__model\n",
    "    \n",
    "    def miss_classify(self, data, eval_data):\n",
    "        self.miss_data = []\n",
    "        y_pred = self.__model.predict(data)\n",
    "        for i in range(len(y_pred)):\n",
    "            if self.__sign(y_pred[i]) != self.__sign(eval_data[i]):\n",
    "                self.miss_data.append(i)\n",
    "        \n",
    "    def calc_error_rate(self, w):\n",
    "        self.error_rate = np.sum(w[self.miss_data])\n",
    "    \n",
    "    def calc_voting_power(self):\n",
    "        self.__alpha = 1/2*np.log((1-self.error_rate)/self.error_rate)\n",
    "        "
   ]
  },
  {
   "cell_type": "code",
   "execution_count": 8,
   "metadata": {},
   "outputs": [],
   "source": [
    "def ShallowTree():\n",
    "    return DecisionTreeClassifier(max_depth=2)"
   ]
  },
  {
   "cell_type": "code",
   "execution_count": 9,
   "metadata": {},
   "outputs": [],
   "source": [
    "def classify(data, classification):\n",
    "    return [1 if np.where(d == 1)[0][0] == classification else -1 for d in data]"
   ]
  },
  {
   "cell_type": "markdown",
   "metadata": {},
   "source": [
    "# Local tests"
   ]
  },
  {
   "cell_type": "code",
   "execution_count": 10,
   "metadata": {},
   "outputs": [],
   "source": [
    "import glob\n",
    "from PIL import Image\n",
    "import os\n",
    "from sklearn.model_selection import train_test_split\n",
    "\n",
    "IMAGE_DIR = \"./data/data/data\"\n",
    "\n",
    "def load():\n",
    "    file_list = glob.glob(IMAGE_DIR + \"/*.jpg\")\n",
    "    X = []\n",
    "    Y = []\n",
    "\n",
    "    for fname in file_list:\n",
    "        with Image.open(fname) as img:\n",
    "            np_img = np.array(img).flatten()\n",
    "        label = int(os.path.split(fname)[-1].split('.')[0].split('_')[3])-1\n",
    "\n",
    "        X.append(np_img)\n",
    "        tempy = np.zeros(15)\n",
    "        tempy[label] = 1\n",
    "        Y.append(tempy)\n",
    "    X, Y = np.array(X), np.array(Y)\n",
    "    return X, Y\n"
   ]
  },
  {
   "cell_type": "code",
   "execution_count": 11,
   "metadata": {},
   "outputs": [
    {
     "output_type": "stream",
     "name": "stdout",
     "text": [
      "794 datapoints have classification 0\n",
      "807 datapoints have classification 1\n",
      "790 datapoints have classification 2\n",
      "821 datapoints have classification 3\n",
      "770 datapoints have classification 4\n",
      "811 datapoints have classification 5\n",
      "784 datapoints have classification 6\n",
      "824 datapoints have classification 7\n",
      "799 datapoints have classification 8\n",
      "790 datapoints have classification 9\n",
      "788 datapoints have classification 10\n",
      "802 datapoints have classification 11\n",
      "815 datapoints have classification 12\n",
      "796 datapoints have classification 13\n",
      "809 datapoints have classification 14\n"
     ]
    }
   ],
   "source": [
    "# create test, train split\n",
    "X, Y = load()\n",
    "Xtrain, Xtest, Ytrain, Ytest = train_test_split(X, Y, train_size=0.8, random_state=2021)\n",
    "Ytrain_classes = []\n",
    "for i in range(Ytrain.shape[1]):\n",
    "    Ytrain_0 = classify(Ytrain, i)\n",
    "    Ytrain_classes.append(Ytrain_0)\n",
    "    print(f\"{Ytrain_0.count(1)} datapoints have classification {i}\")"
   ]
  },
  {
   "cell_type": "code",
   "execution_count": 12,
   "metadata": {},
   "outputs": [
    {
     "output_type": "execute_result",
     "data": {
      "text/plain": [
       "DecisionTreeClassifier(max_depth=2)"
      ]
     },
     "metadata": {},
     "execution_count": 12
    }
   ],
   "source": [
    "model = ShallowTree()\n",
    "model.fit(Xtrain,Ytrain_classes[0])"
   ]
  },
  {
   "cell_type": "code",
   "execution_count": 13,
   "metadata": {},
   "outputs": [
    {
     "output_type": "stream",
     "name": "stdout",
     "text": [
      "679\n"
     ]
    }
   ],
   "source": [
    "WL = WeakLearner(model, 0)\n",
    "WL.miss_classify(Xtrain, Ytrain_classes[0])\n",
    "WL.calc_error_rate(np.array([1 for d in range(Xtrain.shape[0])]))\n",
    "print(WL.error_rate)"
   ]
  }
 ],
 "metadata": {
  "kernelspec": {
   "name": "python3",
   "display_name": "Python 3.8.6 64-bit",
   "metadata": {
    "interpreter": {
     "hash": "aee8b7b246df8f9039afb4144a1f6fd8d2ca17a180786b69acc140d282b71a49"
    }
   }
  },
  "language_info": {
   "codemirror_mode": {
    "name": "ipython",
    "version": 3
   },
   "file_extension": ".py",
   "mimetype": "text/x-python",
   "name": "python",
   "nbconvert_exporter": "python",
   "pygments_lexer": "ipython3",
   "version": "3.8.6-final"
  }
 },
 "nbformat": 4,
 "nbformat_minor": 4
}