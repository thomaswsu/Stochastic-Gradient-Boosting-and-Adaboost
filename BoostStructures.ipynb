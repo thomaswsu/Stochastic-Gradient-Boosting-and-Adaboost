{
 "cells": [
  {
   "cell_type": "code",
   "execution_count": 1,
   "metadata": {},
   "outputs": [],
   "source": [
    "import numpy as np\n",
    "from sklearn.tree import DecisionTreeClassifier"
   ]
  },
  {
   "cell_type": "code",
   "execution_count": 12,
   "metadata": {},
   "outputs": [],
   "source": [
    "class WeakLearner:\n",
    "    def __init__(self, model, i):\n",
    "        self.__class = i\n",
    "        self.__model = model\n",
    "        self.miss_data = None\n",
    "        self.error_rate = None\n",
    "        self.alpha=0\n",
    "    \n",
    "    def __sign(self, val):\n",
    "        return 1 if val > 0 else -1\n",
    "    \n",
    "    def name(self):\n",
    "        return self.__name\n",
    "    \n",
    "    def model(self):\n",
    "        return self.__model\n",
    "    \n",
    "    def miss_classify(self, data, eval_data):\n",
    "        self.miss_data = []\n",
    "        self.predictions = self.__model.predict([d.data for d in data])\n",
    "        for i in range(len(self.predictions)):\n",
    "            if self.__sign(self.predictions[i]) != self.__sign(eval_data[i]):\n",
    "                self.miss_data.append(i)\n",
    "        \n",
    "    def calc_error_rate(self, w):\n",
    "        self.error_rate = np.sum(w[self.miss_data])\n",
    "    \n",
    "    def calc_voting_power(self):\n",
    "        print(f\"Updataing on {self.error_rate}\")\n",
    "        self.alpha = 1/2*np.log((1-self.error_rate)/self.error_rate)\n",
    "        "
   ]
  },
  {
   "cell_type": "code",
   "execution_count": 3,
   "metadata": {},
   "outputs": [],
   "source": [
    "class DataPoint:\n",
    "    def __init__(self, vals):\n",
    "        self.id = vals[0]\n",
    "        self.data = vals[1]\n",
    "        self.weight_ = None\n",
    "    \n",
    "    def update_weight(self,best):\n",
    "        if self.id not in best.miss_data:\n",
    "            self.weight_ = 1/2*(1/(1 - best.error_rate))*self.weight_\n",
    "        else:\n",
    "            self.weight_ = 1/2*(1/best.error_rate)*self.weight_"
   ]
  },
  {
   "cell_type": "code",
   "execution_count": 4,
   "metadata": {},
   "outputs": [],
   "source": [
    "def eval_WL(wl, i):\n",
    "    return np.sign(np.sum([h.alpha*h.predictions[i] for h in wl]))"
   ]
  },
  {
   "cell_type": "code",
   "execution_count": 5,
   "metadata": {},
   "outputs": [],
   "source": [
    "def WL_accuracy(wl, data):\n",
    "    length = len(data)\n",
    "    summation = 0\n",
    "    for i in range(length):\n",
    "        summation += eval_WL(wl, i)\n",
    "    return summation/length"
   ]
  },
  {
   "cell_type": "code",
   "execution_count": 6,
   "metadata": {},
   "outputs": [],
   "source": [
    "def ShallowTree():\n",
    "    return DecisionTreeClassifier(max_depth=2)"
   ]
  },
  {
   "cell_type": "code",
   "execution_count": 7,
   "metadata": {},
   "outputs": [],
   "source": [
    "def classify(data, classification):\n",
    "    return [1 if np.where(d == 1)[0][0] == classification else -1 for d in data]"
   ]
  },
  {
   "cell_type": "markdown",
   "metadata": {},
   "source": [
    "# Local tests"
   ]
  },
  {
   "cell_type": "code",
   "execution_count": 8,
   "metadata": {},
   "outputs": [],
   "source": [
    "import glob\n",
    "from PIL import Image\n",
    "import os\n",
    "from sklearn.model_selection import train_test_split\n",
    "\n",
    "IMAGE_DIR = \"./data/data/data\"\n",
    "\n",
    "def load():\n",
    "    file_list = glob.glob(IMAGE_DIR + \"/*.jpg\")\n",
    "    X = []\n",
    "    Y = []\n",
    "\n",
    "    for fname in file_list:\n",
    "        with Image.open(fname) as img:\n",
    "            np_img = np.array(img).flatten()\n",
    "        label = int(os.path.split(fname)[-1].split('.')[0].split('_')[3])-1\n",
    "\n",
    "        X.append(np_img)\n",
    "        tempy = np.zeros(15)\n",
    "        tempy[label] = 1\n",
    "        Y.append(tempy)\n",
    "    X, Y = np.array(X), np.array(Y)\n",
    "    return X, Y\n"
   ]
  },
  {
   "cell_type": "code",
   "execution_count": 9,
   "metadata": {},
   "outputs": [
    {
     "name": "stdout",
     "output_type": "stream",
     "text": [
      "791 datapoints have classification 0\n",
      "806 datapoints have classification 1\n",
      "812 datapoints have classification 2\n",
      "806 datapoints have classification 3\n",
      "798 datapoints have classification 4\n",
      "781 datapoints have classification 5\n",
      "805 datapoints have classification 6\n",
      "832 datapoints have classification 7\n",
      "814 datapoints have classification 8\n",
      "785 datapoints have classification 9\n",
      "792 datapoints have classification 10\n",
      "799 datapoints have classification 11\n",
      "781 datapoints have classification 12\n",
      "800 datapoints have classification 13\n",
      "798 datapoints have classification 14\n"
     ]
    }
   ],
   "source": [
    "# create test, train split\n",
    "X, Y = load()\n",
    "Xtrain, Xtest, Ytrain, Ytest = train_test_split(X, Y, train_size=0.8, random_state=2021)\n",
    "Ytrain_classes = []\n",
    "for i in range(Ytrain.shape[1]):\n",
    "    Ytrain_0 = classify(Ytrain, i)\n",
    "    Ytrain_classes.append(Ytrain_0)\n",
    "    print(f\"{Ytrain_0.count(1)} datapoints have classification {i}\")"
   ]
  },
  {
   "cell_type": "code",
   "execution_count": 15,
   "metadata": {},
   "outputs": [
    {
     "name": "stdout",
     "output_type": "stream",
     "text": [
      "[0.001 0.001 0.001 ... 0.001 0.001 0.001]\n",
      "Updataing on 0.6950000000000002\n",
      "0: 9 - -0.4118000344786906, 0.9796666666666667\n",
      "[0.002 0.002 0.002 ... 0.002 0.002 0.002]\n",
      "Updataing on 0.49999999999999994\n",
      "1: 10 - 1.1102230246251564e-16, -0.9796666666666667\n",
      "[0.002 0.002 0.002 ... 0.002 0.002 0.002]\n",
      "Updataing on 0.49999999999999994\n",
      "2: 11 - 1.1102230246251564e-16, -0.9796666666666667\n",
      "[0.002 0.002 0.002 ... 0.002 0.002 0.002]\n",
      "Updataing on 0.5\n",
      "3: 12 - 0.0, 0.0\n",
      "[0.002 0.002 0.002 ... 0.002 0.002 0.002]\n",
      "Updataing on 0.5\n",
      "4: 13 - 0.0, 0.0\n",
      "[0.002 0.002 0.002 ... 0.002 0.002 0.002]\n",
      "Updataing on 0.5\n",
      "5: 14 - 0.0, 0.0\n",
      "[0.002 0.002 0.002 ... 0.002 0.002 0.002]\n",
      "Updataing on 0.5\n",
      "6: 15 - 0.0, 0.0\n",
      "[0.002 0.002 0.002 ... 0.002 0.002 0.002]\n",
      "Updataing on 0.5\n",
      "7: 16 - 0.0, 0.0\n",
      "[0.002 0.002 0.002 ... 0.002 0.002 0.002]\n",
      "Updataing on 0.5\n",
      "8: 17 - 0.0, 0.0\n",
      "[0.002 0.002 0.002 ... 0.002 0.002 0.002]\n",
      "Updataing on 0.5\n",
      "9: 18 - 0.0, 0.0\n"
     ]
    }
   ],
   "source": [
    "data = [DataPoint((i, Xtrain[i])) for i in range(Xtrain.shape[0])]\n",
    "for d in data:\n",
    "    d.weight_ = 1/1000\n",
    "H = [WeakLearner(ShallowTree(), i) for i in range(10)]\n",
    "for h in H:\n",
    "    h.model().fit(Xtrain, Ytrain_classes[0])\n",
    "for i in range(10):\n",
    "    print(np.round([d.weight_ for d in data],3))\n",
    "    for h in H:\n",
    "        h.miss_classify(data, Ytrain_classes[0])\n",
    "        h.calc_error_rate(np.array([d.weight_ for d in data]))\n",
    "    best = H[0]\n",
    "    optimal = 0\n",
    "    for num, h in enumerate(H):\n",
    "        if h.error_rate < best.error_rate:\n",
    "            best = h\n",
    "            optimal = num\n",
    "    for d in data:\n",
    "        d.update_weight(best)\n",
    "    best.calc_voting_power()\n",
    "    H.append(best)\n",
    "    accuracy = WL_accuracy(H, data)\n",
    "    print(f\"{i}: {num} - {best.alpha}, {accuracy}\")"
   ]
  },
  {
   "cell_type": "code",
   "execution_count": null,
   "metadata": {},
   "outputs": [],
   "source": []
  },
  {
   "cell_type": "code",
   "execution_count": null,
   "metadata": {},
   "outputs": [],
   "source": []
  }
 ],
 "metadata": {
  "kernelspec": {
   "display_name": "Python 3",
   "language": "python",
   "name": "python3"
  },
  "language_info": {
   "codemirror_mode": {
    "name": "ipython",
    "version": 3
   },
   "file_extension": ".py",
   "mimetype": "text/x-python",
   "name": "python",
   "nbconvert_exporter": "python",
   "pygments_lexer": "ipython3",
   "version": "3.8.3"
  }
 },
 "nbformat": 4,
 "nbformat_minor": 4
}
