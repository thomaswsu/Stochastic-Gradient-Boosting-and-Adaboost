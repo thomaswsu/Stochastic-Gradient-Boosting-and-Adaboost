{
 "cells": [
  {
   "cell_type": "code",
   "execution_count": 15,
   "metadata": {},
   "outputs": [],
   "source": [
    "from sklearn.tree import DecisionTreeClassifier\n",
    "from sklearn.neural_network import MLPClassifier\n",
    "from sklearn.preprocessing import StandardScaler\n",
    "import numpy as np\n",
    "from PIL import Image\n",
    "import glob\n",
    "import os\n",
    "from sklearn.model_selection import train_test_split\n",
    "from math import log, exp\n",
    "from time import time\n",
    "import matplotlib.pyplot as plt\n",
    "import matplotlib.animation as anim\n",
    "from copy import deepcopy"
   ]
  },
  {
   "cell_type": "code",
   "execution_count": 13,
   "metadata": {},
   "outputs": [],
   "source": [
    "class Booster:\n",
    "    def __init__(self, n_estimators=50, learning_rate=1, random_state=None, base_learner=DecisionTreeClassifier(max_depth=2)):\n",
    "        self.n_estimators_ = n_estimators\n",
    "        self.learning_rate_ = learning_rate\n",
    "        self.random_state_ = random_state\n",
    "        self.estimators_ = []\n",
    "        self.alphas_ = np.zeros(self.n_estimators_)\n",
    "        self.accuracies = None\n",
    "        self.base_learner_ = base_learner\n",
    "    \n",
    "    def plot(self):\n",
    "        if not self.accuracies:\n",
    "            raise ValueError(\"ERROR: self.accuracies not defined. Make sure self.fit() is called with visible=True\")\n",
    "        plt.plot([i+1 for i in range(self.n_estimators_)],self.accuracies)\n",
    "        plt.xlabel(\"Number of estimators\")\n",
    "        plt.ylabel(\"Accuracy\")\n",
    "        plt.show()\n",
    "\n",
    "    def fit(self, X, Y, verbose=False, visible=False, verbose_visibility=False):\n",
    "        if visible:\n",
    "            self.accuracies = []\n",
    "            \n",
    "        self.n_samples_ = X.shape[0]\n",
    "        self.classes_ = np.array(sorted(list(set(Y))))\n",
    "        self.n_classes_ = len(self.classes_)\n",
    "        for i in range(self.n_estimators_):\n",
    "            if i == 0:\n",
    "                if verbose:\n",
    "                    print(f\"Iteration starting after {time()-start:.2f} seconds\")\n",
    "                local_alphas = np.ones(self.n_samples_) / self.n_samples_\n",
    "            local_weights, estimator_alpha, estimator_error = self.boost(X, Y, local_alphas, visible)\n",
    "            \n",
    "            if estimator_error is None:\n",
    "                break\n",
    "            \n",
    "            self.alphas_[i] = estimator_alpha\n",
    "            \n",
    "            if verbose and (i+1) % verbose == 0:\n",
    "                print(f\"Iteration {i+1} ended after {time()-start:.2f} seconds\")\n",
    "            \n",
    "            if visible:\n",
    "                acc_start = time()\n",
    "                self.accuracies.append(self.accuracy(self.predict(X),Y))\n",
    "                if verbose_visibility and (i+1) % verbose_visibility == 0:\n",
    "                    print(f\"Accuracy {i+1} ({self.accuracies[-1]:.2%}) took {time()-acc_start:.2f} seconds\")\n",
    "                \n",
    "            if estimator_error <= 0:\n",
    "                break\n",
    "        \n",
    "        if visible:\n",
    "            self.plot()\n",
    "        \n",
    "        return self\n",
    "    \n",
    "    def boost(self, X, Y, weights, visible):\n",
    "        estimator = deepcopy(self.base_learner_)\n",
    "        if self.random_state_:\n",
    "            estimator.set_params(random_state=1)\n",
    "\n",
    "        estimator.fit(X, Y, sample_weight=weights)\n",
    "\n",
    "        y_hat = estimator.predict(X)\n",
    "        incorrect = y_hat != Y\n",
    "        estimator_error = np.dot(incorrect, weights) / np.sum(weights, axis=0)\n",
    "\n",
    "        if estimator_error >= 1 - 1 / self.n_classes_:\n",
    "            return None, None, None\n",
    "\n",
    "        estimator_weight = self.learning_rate_ * np.log((1 - estimator_error) / estimator_error) + np.log(self.n_classes_ - 1)\n",
    "\n",
    "        if estimator_weight <= 0:\n",
    "            return None, None, None\n",
    "\n",
    "        weights *= np.exp(estimator_weight * incorrect)\n",
    "\n",
    "        w_sum = np.sum(weights, axis=0)\n",
    "        if w_sum <= 0:\n",
    "            return None, None, None\n",
    "\n",
    "        weights /= w_sum\n",
    "\n",
    "        self.estimators_.append(estimator)\n",
    "\n",
    "        return np.array(weights), estimator_weight, estimator_error\n",
    "\n",
    "    def predict(self, X):\n",
    "        n_classes = self.n_classes_\n",
    "        classes = self.classes_[:, np.newaxis]\n",
    "        pred = sum((estimator.predict(X) == classes).T * a for estimator, a in zip(self.estimators_, self.alphas_))\n",
    "        pred /= self.alphas_.sum()\n",
    "        if n_classes == 2:\n",
    "            pred[:, 0] *= -1\n",
    "            pred = pred.sum(axis=1)\n",
    "            return self.classes_.take(pred > 0, axis=0)\n",
    "        \n",
    "        return self.classes_.take(np.argmax(pred, axis=1), axis=0)\n",
    "    \n",
    "    def accuracy(self, y_hat, y_true):\n",
    "        ones = np.where(y_hat == y_true, 1, 0)\n",
    "        solid = np.ones((1,len(y_hat)))\n",
    "        return ((ones @ ones.T) / (solid @ solid.T))[0][0]\n",
    "    "
   ]
  },
  {
   "cell_type": "code",
   "execution_count": 10,
   "metadata": {},
   "outputs": [],
   "source": [
    "import tensorflow as tf\n",
    "import keras\n",
    "from keras.datasets import mnist, fashion_mnist"
   ]
  },
  {
   "cell_type": "code",
   "execution_count": 11,
   "metadata": {},
   "outputs": [
    {
     "name": "stdout",
     "output_type": "stream",
     "text": [
      "(60000, 784)\n",
      "(10000, 784)\n"
     ]
    }
   ],
   "source": [
    "(Xtrain,Ytrain), (Xtest,Ytest) = mnist.load_data()\n",
    "Xtrain = Xtrain.astype(\"float32\") / 255.\n",
    "Xtest = Xtest.astype(\"float32\") / 255.\n",
    "Xtrain = Xtrain.reshape((len(Xtrain), np.prod(Xtrain.shape[1:])))\n",
    "Xtest = Xtest.reshape((len(Xtest), np.prod(Xtest.shape[1:])))\n",
    "print(Xtrain.shape)\n",
    "print(Xtest.shape)"
   ]
  },
  {
   "cell_type": "code",
   "execution_count": 17,
   "metadata": {},
   "outputs": [
    {
     "name": "stdout",
     "output_type": "stream",
     "text": [
      "Iteration starting after 0.01 seconds\n",
      "Iteration 25 ended after 79.81 seconds\n",
      "Accuracy 25 (70.24%) took 1.44 seconds\n",
      "Iteration 50 ended after 199.25 seconds\n",
      "Accuracy 50 (78.09%) took 2.75 seconds\n",
      "Iteration 75 ended after 359.33 seconds\n",
      "Accuracy 75 (79.96%) took 4.23 seconds\n",
      "Iteration 100 ended after 545.52 seconds\n",
      "Accuracy 100 (81.08%) took 6.58 seconds\n",
      "Iteration 125 ended after 767.08 seconds\n",
      "Accuracy 125 (83.66%) took 6.97 seconds\n",
      "Iteration 150 ended after 1021.91 seconds\n",
      "Accuracy 150 (83.78%) took 8.15 seconds\n",
      "Iteration 175 ended after 1310.11 seconds\n",
      "Accuracy 175 (84.29%) took 10.71 seconds\n",
      "Iteration 200 ended after 1657.65 seconds\n",
      "Accuracy 200 (85.00%) took 14.22 seconds\n",
      "Iteration 225 ended after 2105.37 seconds\n",
      "Accuracy 225 (84.58%) took 15.36 seconds\n",
      "Iteration 250 ended after 2547.21 seconds\n",
      "Accuracy 250 (85.51%) took 14.45 seconds\n",
      "Iteration 275 ended after 2976.63 seconds\n",
      "Accuracy 275 (85.36%) took 15.01 seconds\n",
      "Iteration 300 ended after 3463.16 seconds\n",
      "Accuracy 300 (85.35%) took 16.49 seconds\n",
      "Iteration 325 ended after 4056.27 seconds\n",
      "Accuracy 325 (86.08%) took 22.47 seconds\n",
      "Iteration 350 ended after 4726.96 seconds\n",
      "Accuracy 350 (86.07%) took 24.87 seconds\n",
      "Iteration 375 ended after 5344.89 seconds\n",
      "Accuracy 375 (86.56%) took 19.72 seconds\n",
      "Iteration 400 ended after 5962.75 seconds\n",
      "Accuracy 400 (86.57%) took 21.78 seconds\n",
      "Iteration 425 ended after 6570.32 seconds\n",
      "Accuracy 425 (86.35%) took 22.81 seconds\n",
      "Iteration 450 ended after 7208.00 seconds\n",
      "Accuracy 450 (86.77%) took 23.45 seconds\n",
      "Iteration 475 ended after 7884.34 seconds\n",
      "Accuracy 475 (87.17%) took 25.70 seconds\n",
      "Iteration 500 ended after 8586.21 seconds\n",
      "Accuracy 500 (87.35%) took 25.95 seconds\n"
     ]
    },
    {
     "data": {
      "image/png": "[encoded data removed]",
      "text/plain": [
       "<Figure size 432x288 with 1 Axes>"
      ]
     },
     "metadata": {
      "needs_background": "light"
     },
     "output_type": "display_data"
    },
    {
     "name": "stdout",
     "output_type": "stream",
     "text": [
      "Accuracy: 87.35% over 500 trees after 8639.75 seconds\n"
     ]
    }
   ],
   "source": [
    "start = time()\n",
    "n_estimators=500\n",
    "booster = Booster(n_estimators = n_estimators, base_learner=DecisionTreeClassifier(max_depth=2)).fit(Xtrain, Ytrain, verbose=25, visible=True, verbose_visibility=25)\n",
    "y_hat = booster.predict(Xtrain)\n",
    "print(f\"Accuracy: {booster.accuracy(y_hat, Ytrain):.2%} over {n_estimators} trees after {time()-start:.2f} seconds\")"
   ]
  },
  {
   "cell_type": "code",
   "execution_count": 18,
   "metadata": {},
   "outputs": [
    {
     "name": "stdout",
     "output_type": "stream",
     "text": [
      "Iteration starting after 0.01 seconds\n",
      "Iteration 25 ended after 50.87 seconds\n",
      "Accuracy 25 (47.40%) took 1.38 seconds\n",
      "Iteration 50 ended after 134.11 seconds\n",
      "Accuracy 50 (57.53%) took 2.59 seconds\n",
      "Iteration 75 ended after 249.32 seconds\n",
      "Accuracy 75 (67.15%) took 3.86 seconds\n",
      "Iteration 100 ended after 396.46 seconds\n",
      "Accuracy 100 (70.12%) took 5.21 seconds\n",
      "Iteration 125 ended after 576.07 seconds\n",
      "Accuracy 125 (71.73%) took 6.40 seconds\n",
      "Iteration 150 ended after 787.01 seconds\n",
      "Accuracy 150 (73.47%) took 7.61 seconds\n",
      "Iteration 175 ended after 1030.94 seconds\n",
      "Accuracy 175 (74.01%) took 8.93 seconds\n",
      "Iteration 200 ended after 1307.05 seconds\n",
      "Accuracy 200 (75.35%) took 10.47 seconds\n",
      "Iteration 225 ended after 1614.59 seconds\n",
      "Accuracy 225 (76.25%) took 11.34 seconds\n",
      "Iteration 250 ended after 1952.67 seconds\n",
      "Accuracy 250 (76.39%) took 13.47 seconds\n",
      "Iteration 275 ended after 2325.49 seconds\n",
      "Accuracy 275 (76.10%) took 13.86 seconds\n",
      "Iteration 300 ended after 2737.52 seconds\n",
      "Accuracy 300 (77.00%) took 15.21 seconds\n",
      "Iteration 325 ended after 3174.33 seconds\n",
      "Accuracy 325 (76.65%) took 16.82 seconds\n",
      "Iteration 350 ended after 3644.47 seconds\n",
      "Accuracy 350 (77.08%) took 18.15 seconds\n",
      "Iteration 375 ended after 4145.28 seconds\n",
      "Accuracy 375 (76.67%) took 18.95 seconds\n",
      "Iteration 400 ended after 4677.05 seconds\n",
      "Accuracy 400 (77.46%) took 20.10 seconds\n",
      "Iteration 425 ended after 5240.66 seconds\n",
      "Accuracy 425 (77.22%) took 22.36 seconds\n",
      "Iteration 450 ended after 5836.39 seconds\n",
      "Accuracy 450 (77.72%) took 25.19 seconds\n",
      "Iteration 475 ended after 6470.20 seconds\n",
      "Accuracy 475 (78.05%) took 24.05 seconds\n",
      "Iteration 500 ended after 7130.21 seconds\n",
      "Accuracy 500 (77.91%) took 25.46 seconds\n"
     ]
    },
    {
     "data": {
      "image/png": "[encoded data removed]",
      "text/plain": [
       "<Figure size 432x288 with 1 Axes>"
      ]
     },
     "metadata": {
      "needs_background": "light"
     },
     "output_type": "display_data"
    },
    {
     "name": "stdout",
     "output_type": "stream",
     "text": [
      "Accuracy: 77.91% over 500 trees after 7182.45 seconds\n"
     ]
    }
   ],
   "source": [
    "start = time()\n",
    "n_estimators=500\n",
    "booster = Booster(n_estimators = n_estimators, base_learner=DecisionTreeClassifier(max_depth=1)).fit(Xtrain, Ytrain, verbose=25, visible=True, verbose_visibility=25)\n",
    "y_hat = booster.predict(Xtrain)\n",
    "print(f\"Accuracy: {booster.accuracy(y_hat, Ytrain):.2%} over {n_estimators} trees after {time()-start:.2f} seconds\")"
   ]
  },
  {
   "cell_type": "code",
   "execution_count": 19,
   "metadata": {},
   "outputs": [
    {
     "name": "stdout",
     "output_type": "stream",
     "text": [
      "Iteration starting after 0.01 seconds\n",
      "Iteration 25 ended after 105.61 seconds\n",
      "Accuracy 25 (81.09%) took 1.46 seconds\n",
      "Iteration 50 ended after 246.35 seconds\n",
      "Accuracy 50 (85.25%) took 2.71 seconds\n",
      "Iteration 75 ended after 420.19 seconds\n",
      "Accuracy 75 (86.91%) took 4.03 seconds\n",
      "Iteration 100 ended after 628.58 seconds\n",
      "Accuracy 100 (88.26%) took 5.40 seconds\n",
      "Iteration 125 ended after 871.81 seconds\n",
      "Accuracy 125 (89.08%) took 6.70 seconds\n",
      "Iteration 150 ended after 1154.77 seconds\n",
      "Accuracy 150 (89.92%) took 9.92 seconds\n",
      "Iteration 175 ended after 1482.82 seconds\n",
      "Accuracy 175 (90.17%) took 10.16 seconds\n",
      "Iteration 200 ended after 1825.78 seconds\n",
      "Accuracy 200 (90.33%) took 10.69 seconds\n",
      "Iteration 225 ended after 2202.25 seconds\n",
      "Accuracy 225 (90.86%) took 12.99 seconds\n",
      "Iteration 250 ended after 2621.10 seconds\n",
      "Accuracy 250 (91.05%) took 14.08 seconds\n",
      "Iteration 275 ended after 3068.25 seconds\n",
      "Accuracy 275 (91.22%) took 14.77 seconds\n",
      "Iteration 300 ended after 3547.13 seconds\n",
      "Accuracy 300 (91.69%) took 16.08 seconds\n",
      "Iteration 325 ended after 4059.67 seconds\n",
      "Accuracy 325 (91.75%) took 18.48 seconds\n",
      "Iteration 350 ended after 4605.53 seconds\n",
      "Accuracy 350 (92.17%) took 19.36 seconds\n",
      "Iteration 375 ended after 5183.82 seconds\n",
      "Accuracy 375 (92.24%) took 20.09 seconds\n",
      "Iteration 400 ended after 5794.77 seconds\n",
      "Accuracy 400 (92.38%) took 22.14 seconds\n",
      "Iteration 425 ended after 6451.15 seconds\n",
      "Accuracy 425 (92.55%) took 23.72 seconds\n",
      "Iteration 450 ended after 7135.68 seconds\n",
      "Accuracy 450 (92.67%) took 24.09 seconds\n",
      "Iteration 475 ended after 7854.62 seconds\n",
      "Accuracy 475 (92.84%) took 25.66 seconds\n",
      "Iteration 500 ended after 8604.15 seconds\n",
      "Accuracy 500 (93.00%) took 26.91 seconds\n"
     ]
    },
    {
     "data": {
      "image/png": "[encoded data removed]",
      "text/plain": [
       "<Figure size 432x288 with 1 Axes>"
      ]
     },
     "metadata": {
      "needs_background": "light"
     },
     "output_type": "display_data"
    },
    {
     "name": "stdout",
     "output_type": "stream",
     "text": [
      "Accuracy: 93.00% over 500 trees after 8659.01 seconds\n"
     ]
    }
   ],
   "source": [
    "start = time()\n",
    "n_estimators=500\n",
    "booster = Booster(n_estimators = n_estimators, base_learner=DecisionTreeClassifier(max_depth=3)).fit(Xtrain, Ytrain, verbose=25, visible=True, verbose_visibility=25)\n",
    "y_hat = booster.predict(Xtrain)\n",
    "print(f\"Accuracy: {booster.accuracy(y_hat, Ytrain):.2%} over {n_estimators} trees after {time()-start:.2f} seconds\")"
   ]
  },
  {
   "cell_type": "code",
   "execution_count": null,
   "metadata": {},
   "outputs": [],
   "source": []
  }
 ],
 "metadata": {
  "kernelspec": {
   "display_name": "Python 3",
   "language": "python",
   "name": "python3"
  },
  "language_info": {
   "codemirror_mode": {
    "name": "ipython",
    "version": 3
   },
   "file_extension": ".py",
   "mimetype": "text/x-python",
   "name": "python",
   "nbconvert_exporter": "python",
   "pygments_lexer": "ipython3",
   "version": "3.8.3"
  }
 },
 "nbformat": 4,
 "nbformat_minor": 4
}
