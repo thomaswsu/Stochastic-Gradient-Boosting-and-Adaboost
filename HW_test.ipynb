{
 "cells": [
  {
   "cell_type": "code",
   "execution_count": 2,
   "metadata": {},
   "outputs": [],
   "source": [
    "from sklearn.tree import DecisionTreeClassifier\n",
    "from sklearn.neural_network import MLPClassifier\n",
    "import numpy as np\n",
    "from PIL import Image\n",
    "import glob\n",
    "import os\n",
    "from sklearn.model_selection import train_test_split\n",
    "from math import log, exp\n",
    "from time import time"
   ]
  },
  {
   "cell_type": "code",
   "execution_count": 18,
   "metadata": {},
   "outputs": [],
   "source": [
    "def predict(alphas, predictors, X, K):\n",
    "    alphas = alphas.reshape(alphas.shape[0], 1)\n",
    "    predictions = np.transpose(np.array([p.predict(X) for p in predictors]))\n",
    "    result = [np.argmax([np.where(p==i, 1, 0) @ alphas for i in range(K)]) for p in predictions]\n",
    "#     for p in predictions:\n",
    "#         options = [np.where(p == i, 1, 0) @ alphas for i in range(K)]\n",
    "#         result.append(np.argmax(options))\n",
    "    return result"
   ]
  },
  {
   "cell_type": "code",
   "execution_count": 4,
   "metadata": {},
   "outputs": [],
   "source": [
    "def accuracy(y_hat, y_true):\n",
    "    ones = np.where(np.array(y_hat) == y_true, 1, 0)\n",
    "    solid = np.ones((1,len(y_hat)))\n",
    "    return ((ones @ ones.T) / (solid @ solid.T))[0][0]"
   ]
  },
  {
   "cell_type": "code",
   "execution_count": 9,
   "metadata": {},
   "outputs": [],
   "source": [
    "def Boost(X, Y, wl, M, verbose=False):\n",
    "    n = X.shape[0]\n",
    "    K = max(Y) + 1\n",
    "    w = [1/n for _ in range(n)]\n",
    "    errs = []\n",
    "    Ts = []\n",
    "    alphas = []\n",
    "    X = np.array(X)\n",
    "    Y = np.array(Y)\n",
    "    indices = [i for i in range(n)]\n",
    "    for m in range(M):\n",
    "        local_X = X[indices]\n",
    "        local_Y = Y[indices]\n",
    "        T = None\n",
    "        if wl == \"NN\":\n",
    "            T = MLPClassifier()\n",
    "        elif wl == \"TREE\":\n",
    "            T = DecisionTreeClassifier(max_depth=2)\n",
    "        T.fit(local_X, local_Y)\n",
    "        Ts.append(T)\n",
    "        y_hat = [round(p) for p in T.predict(X)]\n",
    "        ones = np.where(Y != y_hat, 1, 0)\n",
    "        err = (np.array(w).reshape(1,len(w)) @ ones.reshape(len(w),1))[0][0]/sum(w)\n",
    "        if err == 0:\n",
    "            Ts.pop()\n",
    "            break\n",
    "        errs.append(err)\n",
    "        alpha = log((1-err)/err)+log(K-1)\n",
    "        alphas.append(alpha)\n",
    "        if verbose and m % verbose == 0:\n",
    "            print(f\"Iteration {m} has error {err:%}\\nand accuracy {accuracy(predict(np.array(alphas), Ts, X, K), Y):%}\")\n",
    "        w = [w[i]*exp(alpha) if Y[i] != y_hat[i] else w[i] for i in range(n)]\n",
    "        normalizer = sum(w)\n",
    "        w = [w[i]/normalizer for i in range(n)]\n",
    "        for count,wi in enumerate(w):\n",
    "            if np.isnan(wi):\n",
    "                print(f\"NaN at {count} on iteration {m}\")\n",
    "        indices = np.random.choice(n,n,p=w)\n",
    "        \n",
    "    return np.array(alphas)/sum(alphas), Ts"
   ]
  },
  {
   "cell_type": "code",
   "execution_count": null,
   "metadata": {},
   "outputs": [],
   "source": []
  },
  {
   "cell_type": "code",
   "execution_count": 6,
   "metadata": {},
   "outputs": [],
   "source": [
    "IMAGE_DIR = \"./data/data/data\"\n",
    "\n",
    "def load():\n",
    "    file_list = glob.glob(IMAGE_DIR + \"/*.jpg\")\n",
    "    X = []\n",
    "    Y = []\n",
    "\n",
    "    for fname in file_list:\n",
    "        with Image.open(fname) as img:\n",
    "            np_img = np.array(img).flatten()\n",
    "        label = int(os.path.split(fname)[-1].split('.')[0].split('_')[3])-1\n",
    "\n",
    "        X.append(np_img)\n",
    "        tempy = np.zeros(15)\n",
    "        tempy[label] = 1\n",
    "        Y.append(tempy)\n",
    "    X, Y = np.array(X), np.array(Y)\n",
    "    return(X, Y)"
   ]
  },
  {
   "cell_type": "code",
   "execution_count": 7,
   "metadata": {},
   "outputs": [],
   "source": [
    "# create test, train split\n",
    "X, Y = load()\n",
    "Xtrain, Xtest, Ytrain, Ytest = train_test_split(X, Y, train_size=0.8, random_state=2021)\n",
    "Ytrain = [np.argmax(y) for y in Ytrain]\n",
    "Ytest = [np.argmax(y) for y in Ytest]"
   ]
  },
  {
   "cell_type": "code",
   "execution_count": 14,
   "metadata": {},
   "outputs": [
    {
     "name": "stdout",
     "output_type": "stream",
     "text": [
      "1000 trees required 2561.9330780506134 seconds to train\n"
     ]
    }
   ],
   "source": [
    "start = time()\n",
    "M = 1000\n",
    "alphas, model = Boost(Xtrain, Ytrain, \"TREE\", M)\n",
    "print(f\"{len(model)} trees required {time()-start} seconds to train\")"
   ]
  },
  {
   "cell_type": "code",
   "execution_count": null,
   "metadata": {},
   "outputs": [],
   "source": [
    "K = max(Ytrain) + 1\n",
    "y_pred = predict(alphas, model, Xtrain, K)"
   ]
  },
  {
   "cell_type": "code",
   "execution_count": null,
   "metadata": {},
   "outputs": [],
   "source": [
    "print(f\"{accuracy(y_pred,Ytrain):.2%}\")"
   ]
  },
  {
   "cell_type": "code",
   "execution_count": null,
   "metadata": {},
   "outputs": [],
   "source": []
  }
 ],
 "metadata": {
  "kernelspec": {
   "display_name": "Python 3",
   "language": "python",
   "name": "python3"
  },
  "language_info": {
   "codemirror_mode": {
    "name": "ipython",
    "version": 3
   },
   "file_extension": ".py",
   "mimetype": "text/x-python",
   "name": "python",
   "nbconvert_exporter": "python",
   "pygments_lexer": "ipython3",
   "version": "3.8.3"
  }
 },
 "nbformat": 4,
 "nbformat_minor": 4
}
