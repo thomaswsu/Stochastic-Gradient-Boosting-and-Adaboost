{
 "cells": [
  {
   "cell_type": "code",
   "execution_count": 24,
   "metadata": {},
   "outputs": [],
   "source": [
    "from sklearn.tree import DecisionTreeClassifier\n",
    "from sklearn.neural_network import MLPClassifier\n",
    "import numpy as np\n",
    "from PIL import Image\n",
    "import glob\n",
    "import os\n",
    "from sklearn.model_selection import train_test_split\n",
    "from math import log, exp\n",
    "from time import time"
   ]
  },
  {
   "cell_type": "code",
   "execution_count": 70,
   "metadata": {},
   "outputs": [],
   "source": [
    "def Boost(X, Y, wl, M):\n",
    "    n = X.shape[0]\n",
    "    K = max(Y) + 1\n",
    "    w = [1/n for _ in range(n)]\n",
    "    errs = []\n",
    "    Ts = []\n",
    "    alphas = []\n",
    "    X = np.array(X)\n",
    "    Y = np.array(Y)\n",
    "    indices = [i for i in range(n)]\n",
    "    for m in range(M):\n",
    "        local_X = X[indices]\n",
    "        local_Y = Y[indices]\n",
    "        T = None\n",
    "        if wl == \"NN\":\n",
    "            T = MLPClassifier()\n",
    "        elif wl == \"TREE\":\n",
    "            T = DecisionTreeClassifier(max_depth=2)\n",
    "        T.fit(local_X, local_Y)\n",
    "        Ts.append(T)\n",
    "        y_hat = [round(p) for p in T.predict(local_X)]\n",
    "        err = (np.array(w).reshape(1,len(w)) @ np.where(local_Y != y_hat, 1, 0).reshape(len(w),1))[0][0]/sum([w[i] for i in indices])\n",
    "        errs.append(err)\n",
    "        alpha = log((1-err)/err)+log(K-1)\n",
    "        alphas.append(alpha)\n",
    "        w = [w[i]*exp(alpha) if i in indices and Y[i] != y_hat[i] else w[i] for i in range(n)]\n",
    "        normalizer = sum(w)\n",
    "        w = [w[i]/normalizer for i in range(n)]\n",
    "        for count,wi in enumerate(w):\n",
    "            if np.isnan(wi):\n",
    "                print(f\"NaN at {count} on iteration {m}\")\n",
    "        indices = np.random.choice(n,n,p=w)\n",
    "        local_X = X[indices]\n",
    "        local_y = Y[indices]\n",
    "    return np.array(alphas)/sum(alphas), Ts"
   ]
  },
  {
   "cell_type": "code",
   "execution_count": null,
   "metadata": {},
   "outputs": [],
   "source": []
  },
  {
   "cell_type": "code",
   "execution_count": 26,
   "metadata": {},
   "outputs": [],
   "source": [
    "IMAGE_DIR = \"./data/data/data\"\n",
    "\n",
    "def load():\n",
    "    file_list = glob.glob(IMAGE_DIR + \"/*.jpg\")\n",
    "    X = []\n",
    "    Y = []\n",
    "\n",
    "    for fname in file_list:\n",
    "        with Image.open(fname) as img:\n",
    "            np_img = np.array(img).flatten()\n",
    "        label = int(os.path.split(fname)[-1].split('.')[0].split('_')[3])-1\n",
    "\n",
    "        X.append(np_img)\n",
    "        tempy = np.zeros(15)\n",
    "        tempy[label] = 1\n",
    "        Y.append(tempy)\n",
    "    X, Y = np.array(X), np.array(Y)\n",
    "    return(X, Y)"
   ]
  },
  {
   "cell_type": "code",
   "execution_count": 27,
   "metadata": {},
   "outputs": [],
   "source": [
    "# create test, train split\n",
    "X, Y = load()\n",
    "Xtrain, Xtest, Ytrain, Ytest = train_test_split(X, Y, train_size=0.8, random_state=2021)\n",
    "Ytrain = [np.argmax(y) for y in Ytrain]\n",
    "Ytest = [np.argmax(y) for y in Ytest]"
   ]
  },
  {
   "cell_type": "code",
   "execution_count": 71,
   "metadata": {},
   "outputs": [
    {
     "name": "stderr",
     "output_type": "stream",
     "text": [
      "<ipython-input-70-5a362046fcbc>:24: RuntimeWarning: divide by zero encountered in double_scalars\n",
      "  alpha = log((1-err)/err)+log(K-1)\n",
      "<ipython-input-70-5a362046fcbc>:24: RuntimeWarning: divide by zero encountered in double_scalars\n",
      "  alpha = log((1-err)/err)+log(K-1)\n",
      "<ipython-input-70-5a362046fcbc>:24: RuntimeWarning: divide by zero encountered in double_scalars\n",
      "  alpha = log((1-err)/err)+log(K-1)\n",
      "<ipython-input-70-5a362046fcbc>:24: RuntimeWarning: divide by zero encountered in double_scalars\n",
      "  alpha = log((1-err)/err)+log(K-1)\n",
      "<ipython-input-70-5a362046fcbc>:24: RuntimeWarning: divide by zero encountered in double_scalars\n",
      "  alpha = log((1-err)/err)+log(K-1)\n",
      "<ipython-input-70-5a362046fcbc>:24: RuntimeWarning: divide by zero encountered in double_scalars\n",
      "  alpha = log((1-err)/err)+log(K-1)\n",
      "<ipython-input-70-5a362046fcbc>:24: RuntimeWarning: divide by zero encountered in double_scalars\n",
      "  alpha = log((1-err)/err)+log(K-1)\n",
      "<ipython-input-70-5a362046fcbc>:24: RuntimeWarning: divide by zero encountered in double_scalars\n",
      "  alpha = log((1-err)/err)+log(K-1)\n",
      "<ipython-input-70-5a362046fcbc>:24: RuntimeWarning: divide by zero encountered in double_scalars\n",
      "  alpha = log((1-err)/err)+log(K-1)\n",
      "<ipython-input-70-5a362046fcbc>:24: RuntimeWarning: divide by zero encountered in double_scalars\n",
      "  alpha = log((1-err)/err)+log(K-1)\n",
      "<ipython-input-70-5a362046fcbc>:24: RuntimeWarning: divide by zero encountered in double_scalars\n",
      "  alpha = log((1-err)/err)+log(K-1)\n",
      "<ipython-input-70-5a362046fcbc>:24: RuntimeWarning: divide by zero encountered in double_scalars\n",
      "  alpha = log((1-err)/err)+log(K-1)\n",
      "<ipython-input-70-5a362046fcbc>:24: RuntimeWarning: divide by zero encountered in double_scalars\n",
      "  alpha = log((1-err)/err)+log(K-1)\n",
      "<ipython-input-70-5a362046fcbc>:24: RuntimeWarning: divide by zero encountered in double_scalars\n",
      "  alpha = log((1-err)/err)+log(K-1)\n",
      "<ipython-input-70-5a362046fcbc>:24: RuntimeWarning: divide by zero encountered in double_scalars\n",
      "  alpha = log((1-err)/err)+log(K-1)\n"
     ]
    },
    {
     "name": "stdout",
     "output_type": "stream",
     "text": [
      "NaN at 4449\n"
     ]
    },
    {
     "ename": "ValueError",
     "evalue": "probabilities contain NaN",
     "output_type": "error",
     "traceback": [
      "\u001b[1;31m---------------------------------------------------------------------------\u001b[0m",
      "\u001b[1;31mValueError\u001b[0m                                Traceback (most recent call last)",
      "\u001b[1;32m<ipython-input-71-adb8eede8509>\u001b[0m in \u001b[0;36m<module>\u001b[1;34m\u001b[0m\n\u001b[0;32m      1\u001b[0m \u001b[0mstart\u001b[0m \u001b[1;33m=\u001b[0m \u001b[0mtime\u001b[0m\u001b[1;33m(\u001b[0m\u001b[1;33m)\u001b[0m\u001b[1;33m\u001b[0m\u001b[1;33m\u001b[0m\u001b[0m\n\u001b[0;32m      2\u001b[0m \u001b[0mM\u001b[0m \u001b[1;33m=\u001b[0m \u001b[1;36m1000\u001b[0m\u001b[1;33m\u001b[0m\u001b[1;33m\u001b[0m\u001b[0m\n\u001b[1;32m----> 3\u001b[1;33m \u001b[0malphas\u001b[0m\u001b[1;33m,\u001b[0m \u001b[0mmodel\u001b[0m \u001b[1;33m=\u001b[0m \u001b[0mBoost\u001b[0m\u001b[1;33m(\u001b[0m\u001b[0mXtrain\u001b[0m\u001b[1;33m,\u001b[0m \u001b[0mYtrain\u001b[0m\u001b[1;33m,\u001b[0m \u001b[1;34m\"TREE\"\u001b[0m\u001b[1;33m,\u001b[0m \u001b[0mM\u001b[0m\u001b[1;33m)\u001b[0m\u001b[1;33m\u001b[0m\u001b[1;33m\u001b[0m\u001b[0m\n\u001b[0m\u001b[0;32m      4\u001b[0m \u001b[0mprint\u001b[0m\u001b[1;33m(\u001b[0m\u001b[1;34mf\"{M} trees required {time()-start} seconds to train\"\u001b[0m\u001b[1;33m)\u001b[0m\u001b[1;33m\u001b[0m\u001b[1;33m\u001b[0m\u001b[0m\n",
      "\u001b[1;32m<ipython-input-70-5a362046fcbc>\u001b[0m in \u001b[0;36mBoost\u001b[1;34m(X, Y, wl, M)\u001b[0m\n\u001b[0;32m     30\u001b[0m             \u001b[1;32mif\u001b[0m \u001b[0mnp\u001b[0m\u001b[1;33m.\u001b[0m\u001b[0misnan\u001b[0m\u001b[1;33m(\u001b[0m\u001b[0mwi\u001b[0m\u001b[1;33m)\u001b[0m\u001b[1;33m:\u001b[0m\u001b[1;33m\u001b[0m\u001b[1;33m\u001b[0m\u001b[0m\n\u001b[0;32m     31\u001b[0m                 \u001b[0mprint\u001b[0m\u001b[1;33m(\u001b[0m\u001b[1;34mf\"NaN at {count}\"\u001b[0m\u001b[1;33m)\u001b[0m\u001b[1;33m\u001b[0m\u001b[1;33m\u001b[0m\u001b[0m\n\u001b[1;32m---> 32\u001b[1;33m         \u001b[0mindices\u001b[0m \u001b[1;33m=\u001b[0m \u001b[0mnp\u001b[0m\u001b[1;33m.\u001b[0m\u001b[0mrandom\u001b[0m\u001b[1;33m.\u001b[0m\u001b[0mchoice\u001b[0m\u001b[1;33m(\u001b[0m\u001b[0mn\u001b[0m\u001b[1;33m,\u001b[0m\u001b[0mn\u001b[0m\u001b[1;33m,\u001b[0m\u001b[0mp\u001b[0m\u001b[1;33m=\u001b[0m\u001b[0mw\u001b[0m\u001b[1;33m)\u001b[0m\u001b[1;33m\u001b[0m\u001b[1;33m\u001b[0m\u001b[0m\n\u001b[0m\u001b[0;32m     33\u001b[0m         \u001b[0mlocal_X\u001b[0m \u001b[1;33m=\u001b[0m \u001b[0mX\u001b[0m\u001b[1;33m[\u001b[0m\u001b[0mindices\u001b[0m\u001b[1;33m]\u001b[0m\u001b[1;33m\u001b[0m\u001b[1;33m\u001b[0m\u001b[0m\n\u001b[0;32m     34\u001b[0m         \u001b[0mlocal_y\u001b[0m \u001b[1;33m=\u001b[0m \u001b[0mY\u001b[0m\u001b[1;33m[\u001b[0m\u001b[0mindices\u001b[0m\u001b[1;33m]\u001b[0m\u001b[1;33m\u001b[0m\u001b[1;33m\u001b[0m\u001b[0m\n",
      "\u001b[1;32mmtrand.pyx\u001b[0m in \u001b[0;36mnumpy.random.mtrand.RandomState.choice\u001b[1;34m()\u001b[0m\n",
      "\u001b[1;31mValueError\u001b[0m: probabilities contain NaN"
     ]
    }
   ],
   "source": [
    "start = time()\n",
    "M = 1000\n",
    "alphas, model = Boost(Xtrain, Ytrain, \"TREE\", M)\n",
    "print(f\"{M} trees required {time()-start} seconds to train\")"
   ]
  },
  {
   "cell_type": "code",
   "execution_count": 48,
   "metadata": {},
   "outputs": [],
   "source": [
    "def predict(alphas, predictors, X, K):\n",
    "    alphas = alphas.reshape(alphas.shape[0], 1)\n",
    "    predictions = []\n",
    "    for p in predictors:\n",
    "        predictions.append(p.predict(X))\n",
    "    predictions = np.transpose(np.array(predictions))\n",
    "    result = []\n",
    "    for p in predictions:\n",
    "        options = [np.where(p == i, 1, 0) @ alphas for i in range(K)]\n",
    "        result.append(np.argmax(options))\n",
    "    return result"
   ]
  },
  {
   "cell_type": "code",
   "execution_count": null,
   "metadata": {},
   "outputs": [],
   "source": [
    "K = max(Ytrain) + 1\n",
    "y_pred = predict(alphas, model, Xtrain, K)"
   ]
  },
  {
   "cell_type": "code",
   "execution_count": 64,
   "metadata": {},
   "outputs": [],
   "source": [
    "def accuracy(y_hat, y_true):\n",
    "    ones = np.where(np.array(y_hat) == y_true, 1, 0)\n",
    "    solid = np.ones((1,len(y_hat)))\n",
    "    return ((ones @ ones.T) / (solid @ solid.T))[0][0]"
   ]
  },
  {
   "cell_type": "code",
   "execution_count": null,
   "metadata": {},
   "outputs": [],
   "source": [
    "print(f\"{accuracy(y_pred,Ytrain):.2%}\")"
   ]
  },
  {
   "cell_type": "code",
   "execution_count": null,
   "metadata": {},
   "outputs": [],
   "source": []
  }
 ],
 "metadata": {
  "kernelspec": {
   "display_name": "Python 3",
   "language": "python",
   "name": "python3"
  },
  "language_info": {
   "codemirror_mode": {
    "name": "ipython",
    "version": 3
   },
   "file_extension": ".py",
   "mimetype": "text/x-python",
   "name": "python",
   "nbconvert_exporter": "python",
   "pygments_lexer": "ipython3",
   "version": "3.8.3"
  }
 },
 "nbformat": 4,
 "nbformat_minor": 4
}
