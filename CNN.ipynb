{
 "cells": [
  {
   "cell_type": "code",
   "execution_count": 21,
   "metadata": {
    "id": "G-xNML4LzkGh"
   },
   "outputs": [],
   "source": [
    "from tensorflow.keras.datasets import cifar10\n",
    "import matplotlib.pyplot as plt\n",
    "import numpy as np\n",
    "from tensorflow.keras.models import Sequential, load_model, Model, save_model\n",
    "from tensorflow.keras.layers import Dense, AveragePooling2D, Flatten, InputLayer, Conv2D, Dropout, MaxPooling2D, BatchNormalization, Input\n",
    "from tensorflow.keras.losses import SparseCategoricalCrossentropy"
   ]
  },
  {
   "cell_type": "code",
   "execution_count": 39,
   "metadata": {
    "id": "SBFJ7e-uzkGi"
   },
   "outputs": [],
   "source": [
    "def data_load():\n",
    "    (Xtrain, Ytrain), (Xtest, Ytest) = cifar10.load_data()\n",
    "\n",
    "    Xtrain = Xtrain.astype('float32') / 250.\n",
    "    Xtest = Xtest.astype('float32') / 250.\n",
    "    return (Xtrain, Ytrain, Xtest, Ytest)\n",
    "\n",
    "def create_model():\n",
    "    CNN = Sequential([\n",
    "        InputLayer(input_shape=(32, 32, 3)),\n",
    "        Conv2D(filters=32, kernel_size=(3, 3), activation='relu', padding='same', name=\"C1\"),\n",
    "        BatchNormalization(name=\"BN1\"),\n",
    "        Conv2D(filters=32, kernel_size=(3, 3), activation='relu', padding='same', name=\"C2\"),\n",
    "        BatchNormalization(name=\"BN2\"),\n",
    "        AveragePooling2D(pool_size=(2, 2), strides=(2,2), name=\"P1\"),\n",
    "        Dropout(rate=0.2, name=\"D1\"),\n",
    "        Conv2D(filters=64, kernel_size=(3, 3), activation='relu', padding='same', name=\"C3\"),\n",
    "        BatchNormalization(name=\"BN3\"),\n",
    "        Conv2D(filters=64, kernel_size=(3, 3), activation='relu', padding='same', name=\"C4\"),\n",
    "        BatchNormalization(name=\"BN4\"),\n",
    "        AveragePooling2D(pool_size=(2,2), strides=(2,2), name=\"P2\"),\n",
    "        Dropout(rate=0.2, name=\"D2\"),\n",
    "        Conv2D(filters=128, kernel_size=(3, 3), activation='relu', padding='same', name=\"C5\"),\n",
    "        BatchNormalization(name=\"BN5\"),\n",
    "        Conv2D(filters=128, kernel_size=(3, 3), activation='relu', padding='same', name=\"C6\"),\n",
    "        BatchNormalization(name=\"BN6\"),\n",
    "        AveragePooling2D(pool_size=(2, 2), strides=(2,2), name=\"P3\"),\n",
    "        Dropout(rate=0.3, name=\"D3\"),\n",
    "        Conv2D(filters=256, kernel_size=(3, 3), activation='relu', padding='same', name=\"C7\"),\n",
    "        BatchNormalization(name=\"BN7\"),\n",
    "        Conv2D(filters=256, kernel_size=(3, 3), activation='relu', padding='same', name=\"C8\"),\n",
    "        BatchNormalization(name=\"BN8\"),\n",
    "        AveragePooling2D(pool_size=(2, 2), strides=(2,2), name=\"P4\"),\n",
    "        Dropout(rate=0.3, name=\"D4\"),\n",
    "        Flatten(name=\"F\"),\n",
    "        Dense(units=84, activation=\"tanh\", name=\"Dense_1\"),\n",
    "        Dense(units=10, activation=\"softmax\", name=\"Predict\")\n",
    "    ])\n",
    "    CNN.compile(loss=SparseCategoricalCrossentropy(), optimizer='adam', metrics=['accuracy'])\n",
    "    return CNN\n",
    "\n",
    "def plots(history, num_epochs):\n",
    "    test_losses = history.history[\"loss\"]\n",
    "    test_accuracies = history.history[\"accuracy\"]\n",
    "    val_losses = history.history[\"val_loss\"]\n",
    "    val_accuracies = history.history[\"val_accuracy\"]\n",
    "    timeline = list(range(num_epochs))\n",
    "\n",
    "    plt.plot(timeline, test_losses, label=\"Test Loss\")\n",
    "    plt.plot(timeline, val_losses, label=\"Validation Loss\")\n",
    "    plt.legend()\n",
    "    plt.show()\n",
    "    plt.plot(timeline, test_accuracies, label=\"Test Accuracy\")\n",
    "    plt.plot(timeline, val_accuracies, label=\"Validation Accuracy\")\n",
    "    plt.legend()\n",
    "    plt.show()\n",
    "\n",
    "def accuracy(Yhat, Ytrue):\n",
    "    correct = 0\n",
    "    for i in range(len(Ytrue)):\n",
    "    if np.argmax(Yhat[i]) == Ytrue[i]:\n",
    "        correct += 1\n",
    "    return correct/len(Ytrue)"
   ]
  },
  {
   "cell_type": "code",
   "execution_count": 19,
   "metadata": {
    "colab": {
     "base_uri": "https://localhost:8080/"
    },
    "id": "YrriXWO-zkGj",
    "outputId": "05868de1-645f-4c16-e763-0df5fb80e22a"
   },
   "outputs": [
    {
     "name": "stdout",
     "output_type": "stream",
     "text": [
      "Model: \"sequential_1\"\n",
      "_________________________________________________________________\n",
      "Layer (type)                 Output Shape              Param #   \n",
      "=================================================================\n",
      "C1 (Conv2D)                  (None, 32, 32, 32)        896       \n",
      "_________________________________________________________________\n",
      "BN1 (BatchNormalization)     (None, 32, 32, 32)        128       \n",
      "_________________________________________________________________\n",
      "C2 (Conv2D)                  (None, 32, 32, 32)        9248      \n",
      "_________________________________________________________________\n",
      "BN2 (BatchNormalization)     (None, 32, 32, 32)        128       \n",
      "_________________________________________________________________\n",
      "P1 (AveragePooling2D)        (None, 16, 16, 32)        0         \n",
      "_________________________________________________________________\n",
      "D1 (Dropout)                 (None, 16, 16, 32)        0         \n",
      "_________________________________________________________________\n",
      "C3 (Conv2D)                  (None, 16, 16, 64)        18496     \n",
      "_________________________________________________________________\n",
      "BN3 (BatchNormalization)     (None, 16, 16, 64)        256       \n",
      "_________________________________________________________________\n",
      "C4 (Conv2D)                  (None, 16, 16, 64)        36928     \n",
      "_________________________________________________________________\n",
      "BN4 (BatchNormalization)     (None, 16, 16, 64)        256       \n",
      "_________________________________________________________________\n",
      "P2 (AveragePooling2D)        (None, 8, 8, 64)          0         \n",
      "_________________________________________________________________\n",
      "D2 (Dropout)                 (None, 8, 8, 64)          0         \n",
      "_________________________________________________________________\n",
      "C5 (Conv2D)                  (None, 8, 8, 128)         73856     \n",
      "_________________________________________________________________\n",
      "BN5 (BatchNormalization)     (None, 8, 8, 128)         512       \n",
      "_________________________________________________________________\n",
      "C6 (Conv2D)                  (None, 8, 8, 128)         147584    \n",
      "_________________________________________________________________\n",
      "BN6 (BatchNormalization)     (None, 8, 8, 128)         512       \n",
      "_________________________________________________________________\n",
      "P3 (AveragePooling2D)        (None, 4, 4, 128)         0         \n",
      "_________________________________________________________________\n",
      "D3 (Dropout)                 (None, 4, 4, 128)         0         \n",
      "_________________________________________________________________\n",
      "C7 (Conv2D)                  (None, 4, 4, 256)         295168    \n",
      "_________________________________________________________________\n",
      "BN7 (BatchNormalization)     (None, 4, 4, 256)         1024      \n",
      "_________________________________________________________________\n",
      "C8 (Conv2D)                  (None, 4, 4, 256)         590080    \n",
      "_________________________________________________________________\n",
      "BN8 (BatchNormalization)     (None, 4, 4, 256)         1024      \n",
      "_________________________________________________________________\n",
      "P4 (AveragePooling2D)        (None, 2, 2, 256)         0         \n",
      "_________________________________________________________________\n",
      "D4 (Dropout)                 (None, 2, 2, 256)         0         \n",
      "_________________________________________________________________\n",
      "F (Flatten)                  (None, 1024)              0         \n",
      "_________________________________________________________________\n",
      "Dense_1 (Dense)              (None, 84)                86100     \n",
      "_________________________________________________________________\n",
      "Predict (Dense)              (None, 10)                850       \n",
      "=================================================================\n",
      "Total params: 1,263,046\n",
      "Trainable params: 1,261,126\n",
      "Non-trainable params: 1,920\n",
      "_________________________________________________________________\n"
     ]
    }
   ],
   "source": [
    "Xtrain, Ytrain, Xtest, Ytest = data_load()\n",
    "model = create_model()\n",
    "model.summary()"
   ]
  },
  {
   "cell_type": "code",
   "execution_count": 20,
   "metadata": {
    "colab": {
     "base_uri": "https://localhost:8080/"
    },
    "id": "sglP7C6IzkGj",
    "outputId": "cf9f3f07-1004-4016-f80e-e0a1a8aa06ed"
   },
   "outputs": [
    {
     "name": "stdout",
     "output_type": "stream",
     "text": [
      "Epoch 1/100\n",
      "391/391 [==============================] - 7s 17ms/step - loss: 1.3784 - accuracy: 0.5026 - val_loss: 2.6630 - val_accuracy: 0.2542\n",
      "Epoch 2/100\n",
      "391/391 [==============================] - 6s 16ms/step - loss: 0.9063 - accuracy: 0.6816 - val_loss: 0.8088 - val_accuracy: 0.7227\n",
      "Epoch 3/100\n",
      "391/391 [==============================] - 6s 16ms/step - loss: 0.7379 - accuracy: 0.7423 - val_loss: 0.7109 - val_accuracy: 0.7610\n",
      "Epoch 4/100\n",
      "391/391 [==============================] - 6s 16ms/step - loss: 0.6322 - accuracy: 0.7802 - val_loss: 0.7605 - val_accuracy: 0.7501\n",
      "Epoch 5/100\n",
      "391/391 [==============================] - 6s 16ms/step - loss: 0.5615 - accuracy: 0.8044 - val_loss: 0.6052 - val_accuracy: 0.7943\n",
      "Epoch 6/100\n",
      "391/391 [==============================] - 6s 16ms/step - loss: 0.5074 - accuracy: 0.8253 - val_loss: 0.5874 - val_accuracy: 0.8049\n",
      "Epoch 7/100\n",
      "391/391 [==============================] - 6s 16ms/step - loss: 0.4557 - accuracy: 0.8424 - val_loss: 0.5213 - val_accuracy: 0.8287\n",
      "Epoch 8/100\n",
      "391/391 [==============================] - 6s 16ms/step - loss: 0.4155 - accuracy: 0.8566 - val_loss: 0.5229 - val_accuracy: 0.8267\n",
      "Epoch 9/100\n",
      "391/391 [==============================] - 6s 16ms/step - loss: 0.3809 - accuracy: 0.8679 - val_loss: 0.5756 - val_accuracy: 0.8150\n",
      "Epoch 10/100\n",
      "391/391 [==============================] - 6s 16ms/step - loss: 0.3464 - accuracy: 0.8796 - val_loss: 0.5316 - val_accuracy: 0.8278\n",
      "Epoch 11/100\n",
      "391/391 [==============================] - 6s 16ms/step - loss: 0.3213 - accuracy: 0.8867 - val_loss: 0.5126 - val_accuracy: 0.8410\n",
      "Epoch 12/100\n",
      "391/391 [==============================] - 6s 16ms/step - loss: 0.2945 - accuracy: 0.8978 - val_loss: 0.5072 - val_accuracy: 0.8389\n",
      "Epoch 13/100\n",
      "391/391 [==============================] - 6s 16ms/step - loss: 0.2758 - accuracy: 0.9026 - val_loss: 0.6928 - val_accuracy: 0.7921\n",
      "Epoch 14/100\n",
      "391/391 [==============================] - 6s 16ms/step - loss: 0.2511 - accuracy: 0.9115 - val_loss: 0.5127 - val_accuracy: 0.8422\n",
      "Epoch 15/100\n",
      "391/391 [==============================] - 6s 16ms/step - loss: 0.2359 - accuracy: 0.9154 - val_loss: 0.5193 - val_accuracy: 0.8456\n",
      "Epoch 16/100\n",
      "391/391 [==============================] - 6s 16ms/step - loss: 0.2215 - accuracy: 0.9224 - val_loss: 0.5472 - val_accuracy: 0.8402\n",
      "Epoch 17/100\n",
      "391/391 [==============================] - 6s 16ms/step - loss: 0.2016 - accuracy: 0.9290 - val_loss: 0.5146 - val_accuracy: 0.8548\n",
      "Epoch 18/100\n",
      "391/391 [==============================] - 6s 16ms/step - loss: 0.1886 - accuracy: 0.9335 - val_loss: 0.5532 - val_accuracy: 0.8452\n",
      "Epoch 19/100\n",
      "391/391 [==============================] - 6s 16ms/step - loss: 0.1811 - accuracy: 0.9356 - val_loss: 0.5591 - val_accuracy: 0.8436\n",
      "Epoch 20/100\n",
      "391/391 [==============================] - 6s 16ms/step - loss: 0.1716 - accuracy: 0.9391 - val_loss: 0.5051 - val_accuracy: 0.8627\n",
      "Epoch 21/100\n",
      "391/391 [==============================] - 6s 16ms/step - loss: 0.1595 - accuracy: 0.9443 - val_loss: 0.5338 - val_accuracy: 0.8510\n",
      "Epoch 22/100\n",
      "391/391 [==============================] - 6s 16ms/step - loss: 0.1513 - accuracy: 0.9459 - val_loss: 0.6030 - val_accuracy: 0.8447\n",
      "Epoch 23/100\n",
      "391/391 [==============================] - 7s 17ms/step - loss: 0.1452 - accuracy: 0.9496 - val_loss: 0.5423 - val_accuracy: 0.8504\n",
      "Epoch 24/100\n",
      "391/391 [==============================] - 7s 17ms/step - loss: 0.1407 - accuracy: 0.9505 - val_loss: 0.5594 - val_accuracy: 0.8525\n",
      "Epoch 25/100\n",
      "391/391 [==============================] - 6s 17ms/step - loss: 0.1325 - accuracy: 0.9537 - val_loss: 0.7453 - val_accuracy: 0.8105\n",
      "Epoch 26/100\n",
      "391/391 [==============================] - 7s 17ms/step - loss: 0.1296 - accuracy: 0.9535 - val_loss: 0.5832 - val_accuracy: 0.8500\n",
      "Epoch 27/100\n",
      "391/391 [==============================] - 6s 17ms/step - loss: 0.1203 - accuracy: 0.9585 - val_loss: 0.5836 - val_accuracy: 0.8537\n",
      "Epoch 28/100\n",
      "391/391 [==============================] - 6s 17ms/step - loss: 0.1233 - accuracy: 0.9565 - val_loss: 0.5962 - val_accuracy: 0.8558\n",
      "Epoch 29/100\n",
      "391/391 [==============================] - 6s 17ms/step - loss: 0.1161 - accuracy: 0.9586 - val_loss: 0.6027 - val_accuracy: 0.8488\n",
      "Epoch 30/100\n",
      "391/391 [==============================] - 7s 17ms/step - loss: 0.1082 - accuracy: 0.9618 - val_loss: 0.5801 - val_accuracy: 0.8618\n",
      "Epoch 31/100\n",
      "391/391 [==============================] - 7s 17ms/step - loss: 0.1091 - accuracy: 0.9609 - val_loss: 0.6400 - val_accuracy: 0.8432\n",
      "Epoch 32/100\n",
      "391/391 [==============================] - 6s 17ms/step - loss: 0.1022 - accuracy: 0.9641 - val_loss: 0.5632 - val_accuracy: 0.8602\n",
      "Epoch 33/100\n",
      "391/391 [==============================] - 7s 17ms/step - loss: 0.1024 - accuracy: 0.9631 - val_loss: 0.5773 - val_accuracy: 0.8595\n",
      "Epoch 34/100\n",
      "391/391 [==============================] - 7s 17ms/step - loss: 0.1024 - accuracy: 0.9639 - val_loss: 0.7161 - val_accuracy: 0.8333\n",
      "Epoch 35/100\n",
      "391/391 [==============================] - 7s 17ms/step - loss: 0.0978 - accuracy: 0.9651 - val_loss: 0.6304 - val_accuracy: 0.8477\n",
      "Epoch 36/100\n",
      "391/391 [==============================] - 7s 17ms/step - loss: 0.0970 - accuracy: 0.9657 - val_loss: 0.6021 - val_accuracy: 0.8592\n",
      "Epoch 37/100\n",
      "391/391 [==============================] - 7s 17ms/step - loss: 0.0905 - accuracy: 0.9680 - val_loss: 0.5660 - val_accuracy: 0.8619\n",
      "Epoch 38/100\n",
      "391/391 [==============================] - 7s 17ms/step - loss: 0.0854 - accuracy: 0.9703 - val_loss: 0.5880 - val_accuracy: 0.8602\n",
      "Epoch 39/100\n",
      "391/391 [==============================] - 7s 17ms/step - loss: 0.0913 - accuracy: 0.9672 - val_loss: 0.5715 - val_accuracy: 0.8650\n",
      "Epoch 40/100\n",
      "391/391 [==============================] - 7s 17ms/step - loss: 0.0870 - accuracy: 0.9697 - val_loss: 0.6037 - val_accuracy: 0.8569\n",
      "Epoch 41/100\n",
      "391/391 [==============================] - 7s 17ms/step - loss: 0.0806 - accuracy: 0.9722 - val_loss: 0.6158 - val_accuracy: 0.8550\n",
      "Epoch 42/100\n",
      "391/391 [==============================] - 7s 17ms/step - loss: 0.0874 - accuracy: 0.9695 - val_loss: 0.5919 - val_accuracy: 0.8668\n",
      "Epoch 43/100\n",
      "391/391 [==============================] - 7s 17ms/step - loss: 0.0781 - accuracy: 0.9725 - val_loss: 0.6253 - val_accuracy: 0.8641\n",
      "Epoch 44/100\n",
      "391/391 [==============================] - 7s 17ms/step - loss: 0.0841 - accuracy: 0.9700 - val_loss: 0.5705 - val_accuracy: 0.8694\n",
      "Epoch 45/100\n",
      "391/391 [==============================] - 7s 17ms/step - loss: 0.0807 - accuracy: 0.9722 - val_loss: 0.6255 - val_accuracy: 0.8608\n",
      "Epoch 46/100\n",
      "391/391 [==============================] - 7s 17ms/step - loss: 0.0741 - accuracy: 0.9742 - val_loss: 0.6202 - val_accuracy: 0.8602\n",
      "Epoch 47/100\n",
      "391/391 [==============================] - 7s 17ms/step - loss: 0.0791 - accuracy: 0.9723 - val_loss: 0.5785 - val_accuracy: 0.8673\n",
      "Epoch 48/100\n",
      "391/391 [==============================] - 7s 17ms/step - loss: 0.0682 - accuracy: 0.9761 - val_loss: 0.6071 - val_accuracy: 0.8640\n",
      "Epoch 49/100\n",
      "391/391 [==============================] - 7s 17ms/step - loss: 0.0695 - accuracy: 0.9751 - val_loss: 0.6055 - val_accuracy: 0.8625\n",
      "Epoch 50/100\n",
      "391/391 [==============================] - 7s 17ms/step - loss: 0.0733 - accuracy: 0.9740 - val_loss: 0.6199 - val_accuracy: 0.8624\n",
      "Epoch 51/100\n",
      "391/391 [==============================] - 7s 17ms/step - loss: 0.0659 - accuracy: 0.9769 - val_loss: 0.6650 - val_accuracy: 0.8569\n",
      "Epoch 52/100\n",
      "391/391 [==============================] - 7s 17ms/step - loss: 0.0664 - accuracy: 0.9769 - val_loss: 0.6194 - val_accuracy: 0.8609\n",
      "Epoch 53/100\n",
      "391/391 [==============================] - 7s 17ms/step - loss: 0.0685 - accuracy: 0.9760 - val_loss: 0.6143 - val_accuracy: 0.8631\n",
      "Epoch 54/100\n",
      "391/391 [==============================] - 7s 17ms/step - loss: 0.0691 - accuracy: 0.9749 - val_loss: 0.6428 - val_accuracy: 0.8626\n",
      "Epoch 55/100\n",
      "391/391 [==============================] - 7s 17ms/step - loss: 0.0662 - accuracy: 0.9776 - val_loss: 0.6449 - val_accuracy: 0.8583\n",
      "Epoch 56/100\n",
      "391/391 [==============================] - 7s 17ms/step - loss: 0.0612 - accuracy: 0.9793 - val_loss: 0.6504 - val_accuracy: 0.8593\n",
      "Epoch 57/100\n",
      "391/391 [==============================] - 7s 17ms/step - loss: 0.0650 - accuracy: 0.9782 - val_loss: 0.6469 - val_accuracy: 0.8570\n",
      "Epoch 58/100\n",
      "391/391 [==============================] - 7s 17ms/step - loss: 0.0679 - accuracy: 0.9769 - val_loss: 0.6211 - val_accuracy: 0.8641\n",
      "Epoch 59/100\n",
      "391/391 [==============================] - 7s 17ms/step - loss: 0.0623 - accuracy: 0.9781 - val_loss: 0.6282 - val_accuracy: 0.8639\n",
      "Epoch 60/100\n",
      "391/391 [==============================] - 7s 17ms/step - loss: 0.0625 - accuracy: 0.9778 - val_loss: 0.6031 - val_accuracy: 0.8644\n",
      "Epoch 61/100\n",
      "391/391 [==============================] - 7s 17ms/step - loss: 0.0607 - accuracy: 0.9790 - val_loss: 0.6080 - val_accuracy: 0.8678\n",
      "Epoch 62/100\n",
      "391/391 [==============================] - 7s 17ms/step - loss: 0.0609 - accuracy: 0.9785 - val_loss: 0.6554 - val_accuracy: 0.8605\n",
      "Epoch 63/100\n",
      "391/391 [==============================] - 7s 17ms/step - loss: 0.0586 - accuracy: 0.9796 - val_loss: 0.6602 - val_accuracy: 0.8611\n",
      "Epoch 64/100\n",
      "391/391 [==============================] - 7s 17ms/step - loss: 0.0563 - accuracy: 0.9802 - val_loss: 0.6145 - val_accuracy: 0.8659\n",
      "Epoch 65/100\n",
      "391/391 [==============================] - 7s 17ms/step - loss: 0.0584 - accuracy: 0.9796 - val_loss: 0.6430 - val_accuracy: 0.8638\n",
      "Epoch 66/100\n",
      "391/391 [==============================] - 7s 17ms/step - loss: 0.0559 - accuracy: 0.9802 - val_loss: 0.6057 - val_accuracy: 0.8734\n",
      "Epoch 67/100\n",
      "391/391 [==============================] - 7s 17ms/step - loss: 0.0510 - accuracy: 0.9825 - val_loss: 0.6126 - val_accuracy: 0.8702\n",
      "Epoch 68/100\n",
      "391/391 [==============================] - 7s 17ms/step - loss: 0.0561 - accuracy: 0.9808 - val_loss: 0.6860 - val_accuracy: 0.8528\n",
      "Epoch 69/100\n",
      "391/391 [==============================] - 7s 17ms/step - loss: 0.0546 - accuracy: 0.9817 - val_loss: 0.6343 - val_accuracy: 0.8623\n",
      "Epoch 70/100\n",
      "391/391 [==============================] - 7s 18ms/step - loss: 0.0568 - accuracy: 0.9803 - val_loss: 0.6353 - val_accuracy: 0.8683\n",
      "Epoch 71/100\n",
      "391/391 [==============================] - 7s 18ms/step - loss: 0.0537 - accuracy: 0.9819 - val_loss: 0.6238 - val_accuracy: 0.8661\n",
      "Epoch 72/100\n",
      "391/391 [==============================] - 7s 17ms/step - loss: 0.0503 - accuracy: 0.9829 - val_loss: 0.6373 - val_accuracy: 0.8663\n",
      "Epoch 73/100\n",
      "391/391 [==============================] - 7s 17ms/step - loss: 0.0548 - accuracy: 0.9816 - val_loss: 0.6411 - val_accuracy: 0.8653\n",
      "Epoch 74/100\n",
      "391/391 [==============================] - 7s 17ms/step - loss: 0.0521 - accuracy: 0.9812 - val_loss: 0.6344 - val_accuracy: 0.8703\n",
      "Epoch 75/100\n",
      "391/391 [==============================] - 7s 17ms/step - loss: 0.0508 - accuracy: 0.9825 - val_loss: 0.6446 - val_accuracy: 0.8712\n",
      "Epoch 76/100\n",
      "391/391 [==============================] - 7s 17ms/step - loss: 0.0445 - accuracy: 0.9848 - val_loss: 0.6275 - val_accuracy: 0.8741\n",
      "Epoch 77/100\n",
      "391/391 [==============================] - 7s 17ms/step - loss: 0.0502 - accuracy: 0.9825 - val_loss: 0.6678 - val_accuracy: 0.8656\n",
      "Epoch 78/100\n",
      "391/391 [==============================] - 7s 17ms/step - loss: 0.0503 - accuracy: 0.9827 - val_loss: 0.6731 - val_accuracy: 0.8633\n",
      "Epoch 79/100\n",
      "391/391 [==============================] - 7s 17ms/step - loss: 0.0486 - accuracy: 0.9840 - val_loss: 0.6561 - val_accuracy: 0.8672\n",
      "Epoch 80/100\n",
      "391/391 [==============================] - 7s 17ms/step - loss: 0.0492 - accuracy: 0.9833 - val_loss: 0.6195 - val_accuracy: 0.8724\n",
      "Epoch 81/100\n",
      "391/391 [==============================] - 7s 17ms/step - loss: 0.0527 - accuracy: 0.9822 - val_loss: 0.6339 - val_accuracy: 0.8698\n",
      "Epoch 82/100\n",
      "391/391 [==============================] - 7s 17ms/step - loss: 0.0469 - accuracy: 0.9839 - val_loss: 0.6484 - val_accuracy: 0.8675\n",
      "Epoch 83/100\n",
      "391/391 [==============================] - 7s 17ms/step - loss: 0.0472 - accuracy: 0.9840 - val_loss: 0.6618 - val_accuracy: 0.8618\n",
      "Epoch 84/100\n",
      "391/391 [==============================] - 7s 17ms/step - loss: 0.0466 - accuracy: 0.9839 - val_loss: 0.6675 - val_accuracy: 0.8641\n",
      "Epoch 85/100\n",
      "391/391 [==============================] - 7s 17ms/step - loss: 0.0475 - accuracy: 0.9835 - val_loss: 0.6774 - val_accuracy: 0.8644\n",
      "Epoch 86/100\n",
      "391/391 [==============================] - 7s 17ms/step - loss: 0.0441 - accuracy: 0.9848 - val_loss: 0.6291 - val_accuracy: 0.8723\n",
      "Epoch 87/100\n",
      "391/391 [==============================] - 7s 17ms/step - loss: 0.0432 - accuracy: 0.9849 - val_loss: 0.6572 - val_accuracy: 0.8653\n",
      "Epoch 88/100\n",
      "391/391 [==============================] - 7s 17ms/step - loss: 0.0431 - accuracy: 0.9853 - val_loss: 0.6376 - val_accuracy: 0.8705\n",
      "Epoch 89/100\n",
      "391/391 [==============================] - 7s 17ms/step - loss: 0.0439 - accuracy: 0.9846 - val_loss: 0.6452 - val_accuracy: 0.8710\n",
      "Epoch 90/100\n",
      "391/391 [==============================] - 7s 17ms/step - loss: 0.0436 - accuracy: 0.9851 - val_loss: 0.7070 - val_accuracy: 0.8577\n",
      "Epoch 91/100\n",
      "391/391 [==============================] - 7s 17ms/step - loss: 0.0448 - accuracy: 0.9844 - val_loss: 0.6484 - val_accuracy: 0.8686\n",
      "Epoch 92/100\n",
      "391/391 [==============================] - 7s 17ms/step - loss: 0.0413 - accuracy: 0.9855 - val_loss: 0.6587 - val_accuracy: 0.8698\n",
      "Epoch 93/100\n",
      "391/391 [==============================] - 7s 17ms/step - loss: 0.0416 - accuracy: 0.9854 - val_loss: 0.6756 - val_accuracy: 0.8699\n",
      "Epoch 94/100\n",
      "391/391 [==============================] - 7s 17ms/step - loss: 0.0428 - accuracy: 0.9858 - val_loss: 0.6638 - val_accuracy: 0.8688\n",
      "Epoch 95/100\n",
      "391/391 [==============================] - 7s 17ms/step - loss: 0.0422 - accuracy: 0.9847 - val_loss: 0.6667 - val_accuracy: 0.8671\n",
      "Epoch 96/100\n",
      "391/391 [==============================] - 7s 17ms/step - loss: 0.0406 - accuracy: 0.9862 - val_loss: 0.6560 - val_accuracy: 0.8706\n",
      "Epoch 97/100\n",
      "391/391 [==============================] - 7s 17ms/step - loss: 0.0389 - accuracy: 0.9865 - val_loss: 0.6468 - val_accuracy: 0.8726\n",
      "Epoch 98/100\n",
      "391/391 [==============================] - 7s 17ms/step - loss: 0.0422 - accuracy: 0.9858 - val_loss: 0.7053 - val_accuracy: 0.8635\n",
      "Epoch 99/100\n",
      "391/391 [==============================] - 7s 17ms/step - loss: 0.0417 - accuracy: 0.9859 - val_loss: 0.6384 - val_accuracy: 0.8709\n",
      "Epoch 100/100\n",
      "391/391 [==============================] - 7s 17ms/step - loss: 0.0393 - accuracy: 0.9864 - val_loss: 0.6805 - val_accuracy: 0.8664\n"
     ]
    }
   ],
   "source": [
    "num_epochs=100\n",
    "history = model.fit(Xtrain, Ytrain, epochs=num_epochs, batch_size=128, validation_data = (Xtest, Ytest), verbose=1)"
   ]
  },
  {
   "cell_type": "code",
   "execution_count": 22,
   "metadata": {
    "colab": {
     "base_uri": "https://localhost:8080/",
     "height": 513
    },
    "id": "uxPdZGywzkGj",
    "outputId": "c8f0061c-49c0-4987-b853-2670b64f47c1"
   },
   "outputs": [
    {
     "data": {
      "image/png": "[encoded data removed]",
      "text/plain": [
       "<Figure size 432x288 with 1 Axes>"
      ]
     },
     "metadata": {
      "needs_background": "light",
      "tags": []
     },
     "output_type": "display_data"
    },
    {
     "data": {
      "image/png": "[encoded data removed]",
      "text/plain": [
       "<Figure size 432x288 with 1 Axes>"
      ]
     },
     "metadata": {
      "needs_background": "light",
      "tags": []
     },
     "output_type": "display_data"
    }
   ],
   "source": [
    "plots(history, num_epochs)"
   ]
  },
  {
   "cell_type": "code",
   "execution_count": 23,
   "metadata": {
    "colab": {
     "base_uri": "https://localhost:8080/"
    },
    "id": "zyqpP0qhGZK8",
    "outputId": "8b510ac0-8b11-457b-d48f-b77dd174fe28"
   },
   "outputs": [
    {
     "name": "stdout",
     "output_type": "stream",
     "text": [
      "WARNING:tensorflow:From /usr/local/lib/python3.6/dist-packages/tensorflow/python/training/tracking/tracking.py:111: Model.state_updates (from tensorflow.python.keras.engine.training) is deprecated and will be removed in a future version.\n",
      "Instructions for updating:\n",
      "This property should not be used in TensorFlow 2.0, as updates are applied automatically.\n",
      "WARNING:tensorflow:From /usr/local/lib/python3.6/dist-packages/tensorflow/python/training/tracking/tracking.py:111: Layer.updates (from tensorflow.python.keras.engine.base_layer) is deprecated and will be removed in a future version.\n",
      "Instructions for updating:\n",
      "This property should not be used in TensorFlow 2.0, as updates are applied automatically.\n",
      "INFO:tensorflow:Assets written to: cifar10_model/assets\n"
     ]
    }
   ],
   "source": [
    "model.save(\"cifar10_model.h5\")"
   ]
  },
  {
   "cell_type": "code",
   "execution_count": 24,
   "metadata": {
    "id": "6150-2RfGhp7"
   },
   "outputs": [],
   "source": [
    "reconstructed_model = load_model(\"cifar10_model.h5\")"
   ]
  },
  {
   "cell_type": "code",
   "execution_count": 60,
   "metadata": {
    "colab": {
     "base_uri": "https://localhost:8080/"
    },
    "id": "6J3Ce4jYaf47",
    "outputId": "776384c6-b641-437d-c50b-00c31c19930e"
   },
   "outputs": [
    {
     "name": "stdout",
     "output_type": "stream",
     "text": [
      "Model: \"functional_42\"\n",
      "_________________________________________________________________\n",
      "Layer (type)                 Output Shape              Param #   \n",
      "=================================================================\n",
      "input_2 (InputLayer)         [(None, 32, 32, 3)]       0         \n",
      "_________________________________________________________________\n",
      "C1 (Conv2D)                  (None, 32, 32, 32)        896       \n",
      "_________________________________________________________________\n",
      "BN1 (BatchNormalization)     (None, 32, 32, 32)        128       \n",
      "_________________________________________________________________\n",
      "C2 (Conv2D)                  (None, 32, 32, 32)        9248      \n",
      "_________________________________________________________________\n",
      "BN2 (BatchNormalization)     (None, 32, 32, 32)        128       \n",
      "_________________________________________________________________\n",
      "P1 (AveragePooling2D)        (None, 16, 16, 32)        0         \n",
      "_________________________________________________________________\n",
      "D1 (Dropout)                 (None, 16, 16, 32)        0         \n",
      "_________________________________________________________________\n",
      "C3 (Conv2D)                  (None, 16, 16, 64)        18496     \n",
      "_________________________________________________________________\n",
      "BN3 (BatchNormalization)     (None, 16, 16, 64)        256       \n",
      "_________________________________________________________________\n",
      "C4 (Conv2D)                  (None, 16, 16, 64)        36928     \n",
      "_________________________________________________________________\n",
      "BN4 (BatchNormalization)     (None, 16, 16, 64)        256       \n",
      "_________________________________________________________________\n",
      "P2 (AveragePooling2D)        (None, 8, 8, 64)          0         \n",
      "_________________________________________________________________\n",
      "D2 (Dropout)                 (None, 8, 8, 64)          0         \n",
      "_________________________________________________________________\n",
      "C5 (Conv2D)                  (None, 8, 8, 128)         73856     \n",
      "_________________________________________________________________\n",
      "BN5 (BatchNormalization)     (None, 8, 8, 128)         512       \n",
      "_________________________________________________________________\n",
      "C6 (Conv2D)                  (None, 8, 8, 128)         147584    \n",
      "_________________________________________________________________\n",
      "BN6 (BatchNormalization)     (None, 8, 8, 128)         512       \n",
      "_________________________________________________________________\n",
      "P3 (AveragePooling2D)        (None, 4, 4, 128)         0         \n",
      "_________________________________________________________________\n",
      "D3 (Dropout)                 (None, 4, 4, 128)         0         \n",
      "_________________________________________________________________\n",
      "C7 (Conv2D)                  (None, 4, 4, 256)         295168    \n",
      "_________________________________________________________________\n",
      "BN7 (BatchNormalization)     (None, 4, 4, 256)         1024      \n",
      "_________________________________________________________________\n",
      "C8 (Conv2D)                  (None, 4, 4, 256)         590080    \n",
      "_________________________________________________________________\n",
      "BN8 (BatchNormalization)     (None, 4, 4, 256)         1024      \n",
      "_________________________________________________________________\n",
      "P4 (AveragePooling2D)        (None, 2, 2, 256)         0         \n",
      "_________________________________________________________________\n",
      "D4 (Dropout)                 (None, 2, 2, 256)         0         \n",
      "_________________________________________________________________\n",
      "F (Flatten)                  (None, 1024)              0         \n",
      "=================================================================\n",
      "Total params: 1,176,096\n",
      "Trainable params: 1,174,176\n",
      "Non-trainable params: 1,920\n",
      "_________________________________________________________________\n",
      "0.0008\n"
     ]
    }
   ],
   "source": [
    "# reconstructed_model.summary()\n",
    "model2 = Model(reconstructed_model.input, reconstructed_model.layers[-3].output)\n",
    "model2.summary()\n",
    "model2.save(\"cifar10_feature_map.h5\")\n",
    "print(accuracy(model2.predict(Xtest), Ytest))"
   ]
  },
  {
   "cell_type": "code",
   "execution_count": 58,
   "metadata": {
    "colab": {
     "base_uri": "https://localhost:8080/"
    },
    "id": "1kxC1Ur3KQbc",
    "outputId": "9ee0a319-0e03-4aa8-83f2-99098130a817"
   },
   "outputs": [
    {
     "name": "stdout",
     "output_type": "stream",
     "text": [
      "WARNING:tensorflow:No training configuration found in save file, so the model was *not* compiled. Compile it manually.\n",
      "0.8664\n"
     ]
    }
   ],
   "source": [
    "reconstructed_feature_map = load_model(\"cifar10_feature_map\")\n",
    "# print(accuracy(reconstructed_feature_map.predict(Xtest), Ytest))"
   ]
  }
 ],
 "metadata": {
  "accelerator": "GPU",
  "colab": {
   "collapsed_sections": [],
   "name": "CNN_google.ipynb",
   "provenance": []
  },
  "kernelspec": {
   "display_name": "Python 3",
   "language": "python",
   "name": "python3"
  },
  "language_info": {
   "codemirror_mode": {
    "name": "ipython",
    "version": 3
   },
   "file_extension": ".py",
   "mimetype": "text/x-python",
   "name": "python",
   "nbconvert_exporter": "python",
   "pygments_lexer": "ipython3",
   "version": "3.8.5"
  }
 },
 "nbformat": 4,
 "nbformat_minor": 4
}
